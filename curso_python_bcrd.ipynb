{
 "cells": [
  {
   "cell_type": "markdown",
   "metadata": {
    "slideshow": {
     "slide_type": "slide"
    }
   },
   "source": [
    "<h1><center> Introducción a Python </h1>\n",
    "\n",
    "<h3><center> Johan rosa </h3>\n",
    "<h4><center> Julio 2019 </h4>"
   ]
  },
  {
   "cell_type": "markdown",
   "metadata": {
    "slideshow": {
     "slide_type": "slide"
    }
   },
   "source": [
    "### Objetivo\n",
    "\n",
    "Solializar algunas notas que he tomado sobre la programación con `python`, de cara al curso de métodos numéricos que se aproxima. "
   ]
  },
  {
   "cell_type": "markdown",
   "metadata": {
    "slideshow": {
     "slide_type": "slide"
    }
   },
   "source": [
    "### Contenido\n",
    "\n",
    "- Python como un calculadora\n",
    "- Creación y manipulación de objetos\n",
    "- Instalar paquetes\n",
    "- Visualizaciones de datos\n",
    "- Objetos de dos dimensiones"
   ]
  },
  {
   "cell_type": "markdown",
   "metadata": {
    "slideshow": {
     "slide_type": "slide"
    }
   },
   "source": [
    "## Lo básico \n",
    "### Python como una calculadora"
   ]
  },
  {
   "cell_type": "code",
   "execution_count": 85,
   "metadata": {},
   "outputs": [
    {
     "name": "stdout",
     "output_type": "stream",
     "text": [
      "10\n"
     ]
    }
   ],
   "source": [
    "# Aritmética\n",
    "print(5 + 5) # suma"
   ]
  },
  {
   "cell_type": "code",
   "execution_count": null,
   "metadata": {},
   "outputs": [],
   "source": [
    "print(10 - 5) # resta"
   ]
  },
  {
   "cell_type": "code",
   "execution_count": null,
   "metadata": {},
   "outputs": [],
   "source": [
    "print(5 * 5) # multiplicación"
   ]
  },
  {
   "cell_type": "code",
   "execution_count": null,
   "metadata": {},
   "outputs": [],
   "source": [
    "print(10 / 2) # división"
   ]
  },
  {
   "cell_type": "code",
   "execution_count": null,
   "metadata": {
    "slideshow": {
     "slide_type": "-"
    }
   },
   "outputs": [],
   "source": [
    "print(10 ** 2) # potenciación"
   ]
  },
  {
   "cell_type": "markdown",
   "metadata": {
    "slideshow": {
     "slide_type": "slide"
    }
   },
   "source": [
    "#### Creando y manipulando objetos\n",
    "Los objetos son elementos que residen en el ambiente de trabajo y pueden contener valores que sean el resultado de una operación, o  bien un valor arbitrario dado por el usuario.\n",
    "\n",
    "#### Tipos de objetos (básicos)\n",
    " - **Strings** contienen texto\n",
    " - **Integer** contienen numeros enteros\n",
    " - **Float** contienen números reales\n",
    " - **Boolean** contienen `True` o `False`"
   ]
  },
  {
   "cell_type": "markdown",
   "metadata": {
    "slideshow": {
     "slide_type": "subslide"
    }
   },
   "source": [
    "### Una muestra"
   ]
  },
  {
   "cell_type": "code",
   "execution_count": 84,
   "metadata": {
    "slideshow": {
     "slide_type": "-"
    }
   },
   "outputs": [
    {
     "data": {
      "text/plain": [
       "str"
      ]
     },
     "execution_count": 84,
     "metadata": {},
     "output_type": "execute_result"
    }
   ],
   "source": [
    "# Tipos de objetos\n",
    "my_name = \"Johan\"; type(my_name) "
   ]
  },
  {
   "cell_type": "code",
   "execution_count": null,
   "metadata": {},
   "outputs": [],
   "source": [
    "my_age = 26; type(my_age)"
   ]
  },
  {
   "cell_type": "code",
   "execution_count": null,
   "metadata": {},
   "outputs": [],
   "source": [
    "my_height = 5.10; type(my_height)"
   ]
  },
  {
   "cell_type": "code",
   "execution_count": null,
   "metadata": {},
   "outputs": [],
   "source": [
    "is_male = True; type(is_male)"
   ]
  },
  {
   "cell_type": "markdown",
   "metadata": {
    "slideshow": {
     "slide_type": "subslide"
    }
   },
   "source": [
    "### Listas \n",
    "- Pueden contener varios elementos\n",
    "- Estos elementos pueden ser de diferentes tipos\n",
    "- Para definirlos se utilizan  `[]` y se separan por `,`"
   ]
  },
  {
   "cell_type": "code",
   "execution_count": null,
   "metadata": {},
   "outputs": [],
   "source": [
    "# Creando listas\n",
    "johan = ['Johan', 26, 5.10, True]; print(johan)\n",
    "# johan2 = [my_name, my_age, my_height, is_male]; print(johan2)\n",
    "jordan = ['Jordan', 25, 6.0, True]; print(jordan)\n"
   ]
  },
  {
   "cell_type": "markdown",
   "metadata": {
    "slideshow": {
     "slide_type": "subslide"
    }
   },
   "source": [
    "### Listas\n",
    "Las lista pueden almacenar cualquier tipo de objetos, incluso otras listas"
   ]
  },
  {
   "cell_type": "code",
   "execution_count": null,
   "metadata": {},
   "outputs": [],
   "source": [
    "hermanos = [johan, jordan]\n",
    "print(hermanos)"
   ]
  },
  {
   "cell_type": "markdown",
   "metadata": {
    "slideshow": {
     "slide_type": "slide"
    }
   },
   "source": [
    "### Accediendo a los elementos de una lista\n",
    "\n",
    "Ya que las listas almacenan varios elementos, eventualmente se necesitará consultar uno o varios elementos en particular. Para esto es importante conocer la indexación.\n",
    "\n",
    "- En `python` cada elemento dentro de una `lista` tiene un índice de acuerdo a su posición\n",
    "- Los índices empiezan en 0, no en 1 como en otros lenguajes\n",
    "- Estructura para hacer la consulta `lista[indice]` "
   ]
  },
  {
   "cell_type": "code",
   "execution_count": null,
   "metadata": {},
   "outputs": [],
   "source": [
    "# Si queremos ver la edad de johan\n",
    "print(johan[1]) # la edad es el elemento 2, por eso se usa el indice 1\n",
    "print(johan[-1]) # is_male"
   ]
  },
  {
   "cell_type": "markdown",
   "metadata": {
    "slideshow": {
     "slide_type": "subslide"
    }
   },
   "source": [
    "Podría parecer buena idea reorganizar la lista de listas `hermanos` usando lo que ya hemos visto"
   ]
  },
  {
   "cell_type": "code",
   "execution_count": null,
   "metadata": {},
   "outputs": [],
   "source": [
    "#Reorganizando entonces la lista de listas\n",
    "hermanos2 = [[johan[0], jordan[0]], # nombres\n",
    "             [johan[1], jordan[1]], # edades\n",
    "             [johan[2], jordan[2]], # estaturas\n",
    "             [johan[3], jordan[3]]] # is_male\n",
    "\n",
    "print(hermanos2)  \n",
    "# Qué ventajas les parece que tienen esta opción?"
   ]
  },
  {
   "cell_type": "markdown",
   "metadata": {
    "slideshow": {
     "slide_type": "subslide"
    }
   },
   "source": [
    "**Ejercicios**"
   ]
  },
  {
   "cell_type": "markdown",
   "metadata": {},
   "source": [
    "1. Extraer la estatura de la lista `jordan`"
   ]
  },
  {
   "cell_type": "code",
   "execution_count": null,
   "metadata": {},
   "outputs": [],
   "source": []
  },
  {
   "cell_type": "markdown",
   "metadata": {},
   "source": [
    "2. Extraer los datos de johan de la lista `hermanos`"
   ]
  },
  {
   "cell_type": "code",
   "execution_count": null,
   "metadata": {},
   "outputs": [],
   "source": []
  },
  {
   "cell_type": "markdown",
   "metadata": {},
   "source": [
    "3. Extraer las edades de la lista `hermanos2`"
   ]
  },
  {
   "cell_type": "code",
   "execution_count": null,
   "metadata": {},
   "outputs": [],
   "source": []
  },
  {
   "cell_type": "markdown",
   "metadata": {},
   "source": [
    "4. Extraer la edad de jordan, de la lista `hermanos2`"
   ]
  },
  {
   "cell_type": "code",
   "execution_count": null,
   "metadata": {},
   "outputs": [],
   "source": []
  },
  {
   "cell_type": "markdown",
   "metadata": {
    "slideshow": {
     "slide_type": "slide"
    }
   },
   "source": [
    "### Paquetes en Python\n",
    "- Los paquetes son conjuntos de funciones y datos que ponen a nuestra disposición el trabajo de otros\n",
    "- Los paquetes se instalan el la consola general de la distribución de python que tenemos\n",
    "    - `pip install package_name`\n",
    "- Aunque tengamos un paquete instalado, siempre hay que cargarlo en la sección de trabajo para usar las funciones que contine\n",
    "    - `import package_name as algo`"
   ]
  },
  {
   "cell_type": "code",
   "execution_count": null,
   "metadata": {},
   "outputs": [],
   "source": []
  },
  {
   "cell_type": "markdown",
   "metadata": {
    "slideshow": {
     "slide_type": "subslide"
    }
   },
   "source": [
    "**numpy**\n",
    "\n",
    "Este es el primer paquete que vamos a utilizar aquí, y nos será útil para crear `arrays`.\n",
    "\n",
    "**arrays**\n",
    "- Al igual que las listas pueden almacenar varios elementos\n",
    "- Son elementos atómicos (Sólo pueden contener elementos de la misma clase)\n",
    "- Su principal ventaja es que permite realizar operaciones vectorizadas"
   ]
  },
  {
   "cell_type": "code",
   "execution_count": null,
   "metadata": {},
   "outputs": [],
   "source": [
    "# importando el paquete\n",
    "import numpy as np"
   ]
  },
  {
   "cell_type": "markdown",
   "metadata": {
    "slideshow": {
     "slide_type": "subslide"
    }
   },
   "source": [
    "**Diferencias prácticas entre las listas y los arrays**\n",
    "\n",
    "**Las listas**\n",
    "- La suma de dos listas simplemente combina ambas listas\n",
    "- La multiplicación repite n veces los elementos de la listas (Solo se amite un int)"
   ]
  },
  {
   "cell_type": "code",
   "execution_count": null,
   "metadata": {},
   "outputs": [],
   "source": [
    "# Creando algunas algunas listas\n",
    "bono1 = [500]; bono2 = [600]\n",
    "tasa_bono1 = [1.06]; tasa_bono2 = [1.06]"
   ]
  },
  {
   "cell_type": "code",
   "execution_count": null,
   "metadata": {},
   "outputs": [],
   "source": [
    "bonos = bono1 + bono2\n",
    "print(bonos)"
   ]
  },
  {
   "cell_type": "code",
   "execution_count": null,
   "metadata": {},
   "outputs": [],
   "source": [
    "tasas = tasa_bono1 + tasa_bono2\n",
    "print(tasas)"
   ]
  },
  {
   "cell_type": "code",
   "execution_count": null,
   "metadata": {},
   "outputs": [],
   "source": [
    "print(bono1 * 2)"
   ]
  },
  {
   "cell_type": "markdown",
   "metadata": {
    "slideshow": {
     "slide_type": "subslide"
    }
   },
   "source": [
    "**Los array**\n",
    "\n",
    "Para crear arrays se utiliza la función `np.array()` de numpy, simplemente se necesita una lista con elementos de la misma clase."
   ]
  },
  {
   "cell_type": "code",
   "execution_count": null,
   "metadata": {},
   "outputs": [],
   "source": [
    "# Creando un array\n",
    "ingreso = np.array([25000, 30000, 18000, 15000, 60000])\n",
    "\n",
    "# comvirtiendo las listas en array\n",
    "bonos_array = np.array(bonos)\n",
    "tasas_array = np.array(tasas)"
   ]
  },
  {
   "cell_type": "markdown",
   "metadata": {},
   "source": [
    "Ya que tenemos dos arrays podemos hacer operaciones vectorizadas con ellas. Por ejemplo multiplicar cada bono por su tasa"
   ]
  },
  {
   "cell_type": "code",
   "execution_count": null,
   "metadata": {},
   "outputs": [],
   "source": [
    "print(bonos_array * tasas_array)"
   ]
  },
  {
   "cell_type": "markdown",
   "metadata": {
    "slideshow": {
     "slide_type": "slide"
    }
   },
   "source": [
    "#### Métodos de los objetos\n",
    "\n",
    "En `python`, como en `c++` y otros lenguajes, los objetos tienen atributos dependiendo el tipo de objeto (Programación orientada a objetos)\n",
    "\n",
    "Ejemplos."
   ]
  },
  {
   "cell_type": "code",
   "execution_count": null,
   "metadata": {},
   "outputs": [],
   "source": [
    "# Para arrays númericos\n",
    "print(ingreso.mean()); print(ingreso.max()); print(ingreso.min())\n",
    "print(ingreso.sum())"
   ]
  },
  {
   "cell_type": "code",
   "execution_count": null,
   "metadata": {},
   "outputs": [],
   "source": [
    "# Para strings\n",
    "print(\"johan\".upper())\n",
    "print(\"JOHAN\".lower())"
   ]
  },
  {
   "cell_type": "markdown",
   "metadata": {
    "slideshow": {
     "slide_type": "slide"
    }
   },
   "source": [
    "### Visualización de datos: una pincelada\n",
    "Para las visualizaciones usaremos el paquete `matplotlib`"
   ]
  },
  {
   "cell_type": "code",
   "execution_count": null,
   "metadata": {},
   "outputs": [],
   "source": [
    "import matplotlib.pyplot as plt\n",
    "plt.rcParams['figure.figsize'] = [9, 4]\n",
    "\n",
    "# Creando algunos objetos para hacer gráficos\n",
    "year = [2000, 2001, 2002, 2003, 2004, 2005, 2006, 2007, 2008, 2009]\n",
    "ingreso = [19000, 21000, 21000, 24000, 25000, 30000, 31000, 35000, 40000, 50000]\n",
    "gasto_tc = [19000, 16000, 22000, 16000, 20000, 22000, 24000, 30000, 45000, 40000]"
   ]
  },
  {
   "cell_type": "markdown",
   "metadata": {
    "slideshow": {
     "slide_type": "subslide"
    }
   },
   "source": [
    "### Un gráfico de líneas"
   ]
  },
  {
   "cell_type": "code",
   "execution_count": null,
   "metadata": {
    "slideshow": {
     "slide_type": "-"
    }
   },
   "outputs": [],
   "source": [
    "# un gráfico de líneas\n",
    "plt.plot(year, ingreso, label = \"Ingreso\")\n",
    "plt.xlabel(\"Year\") # titulo del eje x\n",
    "plt.ylabel(\"RD$\") # etiqueta del eje y\n",
    "plt.title(\"Ingreso percibido\") # titulo del gráfico\n",
    "plt.yticks([20000, 25000, 30000, 35000, 40000, 45000, 50000],\n",
    "           ['20,000', '25,000', '30,000', '35,000', '40,000', '45,000', '50,000'])\n",
    "#plt.grid(True) # agregando lineas de orientación al gráfico\n",
    " # para modificar el texto del gráfico se añaden dos listas, una con los valores originales y otra con\n",
    " # los valores deseados\n",
    "plt.show()"
   ]
  },
  {
   "cell_type": "markdown",
   "metadata": {
    "slideshow": {
     "slide_type": "subslide"
    }
   },
   "source": [
    "### Un gráfico de dispersión"
   ]
  },
  {
   "cell_type": "code",
   "execution_count": null,
   "metadata": {},
   "outputs": [],
   "source": [
    "# Gráfico de dispersión\n",
    "plt.scatter(ingreso, gasto_tc)\n",
    "#plt.grid(True) # agregando lineas de orientación al gráfico\n",
    "plt.show()"
   ]
  },
  {
   "cell_type": "markdown",
   "metadata": {
    "slideshow": {
     "slide_type": "slide"
    }
   },
   "source": [
    "### Objetos con más dimensiones\n",
    "Este tipo de objetos, a diferencia de las `listas` y `arrays`, tienen otros atributos . Entre los más comunes están los diccionarios y los data frame.\n",
    "\n",
    "#### Diccionarios\n",
    "\n",
    "- Guardan información referenciada a una etiqueta\n",
    "- Las etiquetas son únicas en cada diccionario\n",
    "- Se declaran usando `{}` (Las listas usaban `[]`)\n",
    "- Los diccionarios pueden contener elementos de distitos tipo"
   ]
  },
  {
   "cell_type": "markdown",
   "metadata": {},
   "source": [
    "#### Creando y manipulando diccionarios"
   ]
  },
  {
   "cell_type": "markdown",
   "metadata": {},
   "source": [
    "- Guardan información referenciada a una etiqueta y se crean con `{}`"
   ]
  },
  {
   "cell_type": "code",
   "execution_count": null,
   "metadata": {},
   "outputs": [],
   "source": [
    "edades = {'Johan': 26, 'Jordan': 25, 'Johanna': 30, 'Felix': 52, 'Ydaisa': 52, 'Elhan': 2}\n",
    "print(edades)"
   ]
  },
  {
   "cell_type": "code",
   "execution_count": null,
   "metadata": {},
   "outputs": [],
   "source": [
    "print(edades['Johan']); print(edades['Johanna'])"
   ]
  },
  {
   "cell_type": "markdown",
   "metadata": {
    "slideshow": {
     "slide_type": "subslide"
    }
   },
   "source": [
    "- Las listas pueden contener información de distitos tipo"
   ]
  },
  {
   "cell_type": "code",
   "execution_count": null,
   "metadata": {},
   "outputs": [],
   "source": [
    "# Los diccionario pueden contener elementos de distintos tipos.\n",
    "Johan = {'name': 'Johan', 'edad': 26, 'estatura': 5.10, 'Es hombre': True}\n",
    "\n",
    "# Ahora una lista más larga\n",
    "hermanos3 = {'name': ['Johan', 'Johanna', 'Jordan'], 'edad': [26, 30, 25],\n",
    "             'estatura': [5.10, 5.04, 5.11], 'Es hombre': [True, False, True]}\n",
    "print(hermanos3)\n"
   ]
  },
  {
   "cell_type": "markdown",
   "metadata": {},
   "source": [
    "- Las etiquetas son únicas"
   ]
  },
  {
   "cell_type": "code",
   "execution_count": null,
   "metadata": {},
   "outputs": [],
   "source": [
    "#Imaginemos que la edad cambió\n",
    "Johan['edad'] = 27\n",
    "print(Johan)\n",
    "\n",
    "# De esta misma forma podemos agregar elementos, siempre y cuando la clave no sea igual a una preexistente\n",
    "Johan['skin'] = 'black'\n",
    "print(Johan)\n",
    "\n",
    "# Para eliminar un elemento del diccionario podemos utilizar la función `del()`\n",
    "del(Johan['skin'])\n",
    "\n",
    "print(Johan)"
   ]
  },
  {
   "cell_type": "markdown",
   "metadata": {
    "slideshow": {
     "slide_type": "slide"
    }
   },
   "source": [
    "### Data Frame\n",
    "- Estructuras rectangurales de datos\n",
    "- Para crearlas y manipularlas en python se suele usar el paquete `pandas`\n",
    "- Se importan desde archivos `.txt`, `.csv`, `.xlsx`, `etc`.\n",
    "- También pueden ser creadas en el ambiente de trabajo"
   ]
  },
  {
   "cell_type": "code",
   "execution_count": null,
   "metadata": {},
   "outputs": [],
   "source": [
    "# Importar el paqute\n",
    "import pandas as pd\n",
    "\n",
    "# Creando un `DF` desde un diccionario (Este diccionario se definió anteriormente)\n",
    "hermanos_df = pd.DataFrame(hermanos3)\n",
    "print(hermanos_df)"
   ]
  },
  {
   "cell_type": "markdown",
   "metadata": {
    "slideshow": {
     "slide_type": "-"
    }
   },
   "source": [
    "#### Importar data frame\n",
    "\n"
   ]
  },
  {
   "cell_type": "code",
   "execution_count": null,
   "metadata": {},
   "outputs": [],
   "source": [
    "pokemon = pd.read_csv('//bcfs1/PROMIECO/Encuestas macroeconomicas/Personales/Johan Rosa/JR/python/Pokemon1.csv')\n",
    "pokemon.head()"
   ]
  },
  {
   "cell_type": "markdown",
   "metadata": {
    "slideshow": {
     "slide_type": "subslide"
    }
   },
   "source": [
    "### Accediendo a los elementos de un DF \n",
    "- Mediante corchetes `[]`\n",
    "- Métodos avanzados\n",
    "    - .loc\n",
    "    - .iloc\n",
    "    \n",
    "**Primero con corchetes**\n",
    "\n",
    "Para acceder a columnas completas `df['variable']` o `df[['variable']]`"
   ]
  },
  {
   "cell_type": "code",
   "execution_count": null,
   "metadata": {},
   "outputs": [],
   "source": [
    "print(pokemon.columns) # Consultando los nombres de las variables del data frame\n",
    "print(type(pokemon[\"Name\"])) # para acceder a una columna en particular. Esto es un array\n",
    "print(type(pokemon[[\"Name\"]])) # para acceder a una columna en particular"
   ]
  },
  {
   "cell_type": "code",
   "execution_count": null,
   "metadata": {},
   "outputs": [],
   "source": [
    "# Seleccionar más de una variable\n",
    "pokemon[['Name', \"Attack\"]].head(3)"
   ]
  },
  {
   "cell_type": "markdown",
   "metadata": {
    "slideshow": {
     "slide_type": "subslide"
    }
   },
   "source": [
    "**Acceder a filas concretas**\n",
    "\n",
    "Para acceder a una o varias filas en particular se utiliza el índice de la fila dentro de los corchetes."
   ]
  },
  {
   "cell_type": "code",
   "execution_count": null,
   "metadata": {},
   "outputs": [],
   "source": [
    "pokemon[1:2]"
   ]
  },
  {
   "cell_type": "code",
   "execution_count": null,
   "metadata": {},
   "outputs": [],
   "source": [
    "pokemon[0:4][[\"Name\", \"Attack\", \"Speed\", \"Legendary\", \"HP\"]]\n",
    "# Esto no funcionaría\n",
    "# print(pokemon[1])"
   ]
  },
  {
   "cell_type": "markdown",
   "metadata": {
    "slideshow": {
     "slide_type": "subslide"
    }
   },
   "source": [
    "**Ahora con los métodos `loc` y `iloc`**\n",
    "\n",
    "son utilizados para acceder a los elementos de un data frame. Suelen ser más flexibles que solo los corchetes y se basan en etiquetas e índices de posición, respectivamente.\n",
    "\n",
    "**Primero con `.loc`**"
   ]
  },
  {
   "cell_type": "code",
   "execution_count": null,
   "metadata": {},
   "outputs": [],
   "source": [
    "# Primero vamos a hacerle una pequeña modificación a data frame para que tenga como \n",
    "# label de filas el nombre del pokemon en cuestión\n",
    "pokemon.index = pokemon[\"Name\"]\n",
    "\n",
    "# Hecho esto podemos usar el metodo df.loc para acceder a los datos de pokemones mediales los labels\n",
    "pokemon.loc[[\"Ivysaur\"]]\n"
   ]
  },
  {
   "cell_type": "code",
   "execution_count": null,
   "metadata": {
    "slideshow": {
     "slide_type": "-"
    }
   },
   "outputs": [],
   "source": [
    "# Ahora de dos pokemones, o más. \n",
    "pokemon.loc[[\"Pikachu\", \"Bulbasaur\", \"Squirtle\"]]\n",
    "# Qué pokemon falta para completar esta lista?"
   ]
  },
  {
   "cell_type": "markdown",
   "metadata": {
    "slideshow": {
     "slide_type": "subslide"
    }
   },
   "source": [
    "**Seguimos con `.loc`**\n",
    "\n",
    "Ahora los datos de estos pokemones pero no de todas las columnas"
   ]
  },
  {
   "cell_type": "code",
   "execution_count": null,
   "metadata": {},
   "outputs": [],
   "source": [
    "pokemon.loc[[\"Pikachu\", \"Charmander\"], [\"Attack\", \"HP\"]]"
   ]
  },
  {
   "cell_type": "code",
   "execution_count": null,
   "metadata": {},
   "outputs": [],
   "source": [
    "# para ver todas las filas \n",
    "pokemon.loc[:, [\"Attack\"]].head(12)"
   ]
  },
  {
   "cell_type": "markdown",
   "metadata": {
    "slideshow": {
     "slide_type": "subslide"
    }
   },
   "source": [
    "**Ahora con `.iloc`**\n",
    "\n",
    "`df.iloc` se utiliza para acceder a las filas y columnas de un data frame mediante el índice de posición de estas."
   ]
  },
  {
   "cell_type": "code",
   "execution_count": null,
   "metadata": {},
   "outputs": [],
   "source": [
    "pokemon.iloc[[0]] # Si uso un solo corchete la extraigo como un pandas' list"
   ]
  },
  {
   "cell_type": "code",
   "execution_count": null,
   "metadata": {},
   "outputs": [],
   "source": [
    "pokemon.iloc[0:3]"
   ]
  },
  {
   "cell_type": "code",
   "execution_count": null,
   "metadata": {},
   "outputs": [],
   "source": [
    "# Imprimir multiples filas o columnas usando .iloc\n",
    "pokemon.iloc[[1, 2, 3]]"
   ]
  },
  {
   "cell_type": "code",
   "execution_count": null,
   "metadata": {},
   "outputs": [],
   "source": [
    "pokemon.iloc[2:5, [1, 6]]"
   ]
  },
  {
   "cell_type": "markdown",
   "metadata": {
    "slideshow": {
     "slide_type": "slide"
    }
   },
   "source": [
    "### Usando condiciones lógicas para filtrar un df"
   ]
  }
 ],
 "metadata": {
  "celltoolbar": "Slideshow",
  "kernelspec": {
   "display_name": "Python 3",
   "language": "python",
   "name": "python3"
  },
  "language_info": {
   "codemirror_mode": {
    "name": "ipython",
    "version": 3
   },
   "file_extension": ".py",
   "mimetype": "text/x-python",
   "name": "python",
   "nbconvert_exporter": "python",
   "pygments_lexer": "ipython3",
   "version": "3.7.1"
  }
 },
 "nbformat": 4,
 "nbformat_minor": 2
}
