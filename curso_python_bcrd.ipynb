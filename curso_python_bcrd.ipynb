{
 "cells": [
  {
   "cell_type": "markdown",
   "metadata": {
    "slideshow": {
     "slide_type": "slide"
    }
   },
   "source": [
    "<h1><center> Introducción a Python </h1>\n",
    "\n",
    "<h3><center> Johan rosa </h3>\n",
    "<h4><center> Julio 2019 </h4>"
   ]
  },
  {
   "cell_type": "markdown",
   "metadata": {
    "slideshow": {
     "slide_type": "slide"
    }
   },
   "source": [
    "### Objetivo\n",
    "\n",
    "Socializar con ustedes mis notas sobre la programación en python. Lenguaje que indudablemente se ha colocado como un "
   ]
  },
  {
   "cell_type": "markdown",
   "metadata": {
    "slideshow": {
     "slide_type": "slide"
    }
   },
   "source": [
    "### Contenido\n",
    "\n",
    "- Python como un calculadora\n",
    "- Creación y manipulación de objetos\n",
    "- Instalar paquetes\n",
    "- Visualizaciones de datos\n",
    "- Objetos de dos dimensiones"
   ]
  },
  {
   "cell_type": "markdown",
   "metadata": {
    "slideshow": {
     "slide_type": "slide"
    }
   },
   "source": [
    "## Lo básico \n",
    "### Python como una calculadora"
   ]
  },
  {
   "cell_type": "code",
   "execution_count": 27,
   "metadata": {},
   "outputs": [
    {
     "name": "stdout",
     "output_type": "stream",
     "text": [
      "10\n"
     ]
    }
   ],
   "source": [
    "# Aritmética\n",
    "print(5 + 5) # suma"
   ]
  },
  {
   "cell_type": "code",
   "execution_count": 28,
   "metadata": {
    "collapsed": true
   },
   "outputs": [
    {
     "name": "stdout",
     "output_type": "stream",
     "text": [
      "5\n"
     ]
    }
   ],
   "source": [
    "print(10 - 5) # resta"
   ]
  },
  {
   "cell_type": "code",
   "execution_count": 29,
   "metadata": {
    "collapsed": true
   },
   "outputs": [
    {
     "name": "stdout",
     "output_type": "stream",
     "text": [
      "25\n"
     ]
    }
   ],
   "source": [
    "print(5 * 5) # multiplicación"
   ]
  },
  {
   "cell_type": "code",
   "execution_count": 30,
   "metadata": {
    "collapsed": true
   },
   "outputs": [
    {
     "name": "stdout",
     "output_type": "stream",
     "text": [
      "5.0\n"
     ]
    }
   ],
   "source": [
    "print(10 / 2) # división"
   ]
  },
  {
   "cell_type": "code",
   "execution_count": 31,
   "metadata": {
    "collapsed": true,
    "slideshow": {
     "slide_type": "-"
    }
   },
   "outputs": [
    {
     "name": "stdout",
     "output_type": "stream",
     "text": [
      "100\n"
     ]
    }
   ],
   "source": [
    "print(10 ** 2) # potenciación"
   ]
  },
  {
   "cell_type": "markdown",
   "metadata": {
    "slideshow": {
     "slide_type": "slide"
    }
   },
   "source": [
    "#### Creando y manipulando objetos\n",
    "Los objetos son elementos que residen en el ambiente de trabajo y pueden contener valores que sean el resultado de una operación, o  bien un valor arbitrario dado por el usuario.\n",
    "\n",
    "#### Tipos de objetos (básicos)\n",
    " - **Strings** contienen texto\n",
    " - **Integer** contienen numeros enteros\n",
    " - **Float** contienen números reales\n",
    " - **Boolean** contienen True o False"
   ]
  },
  {
   "cell_type": "markdown",
   "metadata": {
    "slideshow": {
     "slide_type": "subslide"
    }
   },
   "source": [
    "### Una muestra"
   ]
  },
  {
   "cell_type": "code",
   "execution_count": 23,
   "metadata": {
    "collapsed": true,
    "slideshow": {
     "slide_type": "-"
    }
   },
   "outputs": [
    {
     "data": {
      "text/plain": [
       "str"
      ]
     },
     "execution_count": 23,
     "metadata": {},
     "output_type": "execute_result"
    }
   ],
   "source": [
    "# Tipos de objetos\n",
    "my_name = \"Johan\"; type(my_name) "
   ]
  },
  {
   "cell_type": "code",
   "execution_count": 24,
   "metadata": {
    "collapsed": true
   },
   "outputs": [
    {
     "data": {
      "text/plain": [
       "int"
      ]
     },
     "execution_count": 24,
     "metadata": {},
     "output_type": "execute_result"
    }
   ],
   "source": [
    "my_age = 26; type(my_age)"
   ]
  },
  {
   "cell_type": "code",
   "execution_count": 25,
   "metadata": {
    "collapsed": true
   },
   "outputs": [
    {
     "data": {
      "text/plain": [
       "float"
      ]
     },
     "execution_count": 25,
     "metadata": {},
     "output_type": "execute_result"
    }
   ],
   "source": [
    "my_height = 5.10; type(my_height)"
   ]
  },
  {
   "cell_type": "code",
   "execution_count": 26,
   "metadata": {
    "collapsed": true
   },
   "outputs": [
    {
     "data": {
      "text/plain": [
       "bool"
      ]
     },
     "execution_count": 26,
     "metadata": {},
     "output_type": "execute_result"
    }
   ],
   "source": [
    "is_male = True; type(is_male)"
   ]
  },
  {
   "cell_type": "markdown",
   "metadata": {
    "slideshow": {
     "slide_type": "subslide"
    }
   },
   "source": [
    "### Listas \n",
    "- Pueden contener varios elementos\n",
    "- Estos elementos pueden ser de diferentes tipos\n",
    "- Para definirlos se utilizan  `[]` y se separan por `,`"
   ]
  },
  {
   "cell_type": "code",
   "execution_count": 39,
   "metadata": {
    "collapsed": true
   },
   "outputs": [
    {
     "name": "stdout",
     "output_type": "stream",
     "text": [
      "['Johan', 26, 5.1, True]\n",
      "['Jordan', 25, 6.0, True]\n"
     ]
    }
   ],
   "source": [
    "# Creando listas\n",
    "johan = ['Johan', 26, 5.10, True]; print(johan)\n",
    "# johan2 = [my_name, my_age, my_height, is_male]; print(johan2)\n",
    "jordan = ['Jordan', 25, 6.0, True]; print(jordan)\n"
   ]
  },
  {
   "cell_type": "markdown",
   "metadata": {
    "slideshow": {
     "slide_type": "subslide"
    }
   },
   "source": [
    "### Listas\n",
    "Las lista pueden almacenar cualquier tipo de objetos, incluso otras listas"
   ]
  },
  {
   "cell_type": "code",
   "execution_count": 40,
   "metadata": {
    "collapsed": true
   },
   "outputs": [
    {
     "name": "stdout",
     "output_type": "stream",
     "text": [
      "[['Johan', 26, 5.1, True], ['Jordan', 25, 6.0, True]]\n"
     ]
    }
   ],
   "source": [
    "hermanos = [johan, jordan]\n",
    "print(hermanos)"
   ]
  },
  {
   "cell_type": "markdown",
   "metadata": {
    "slideshow": {
     "slide_type": "slide"
    }
   },
   "source": [
    "### Accediendo a los elementos de una lista\n",
    "\n",
    "Ya que las listas almacenan varios elementos, eventualmente se necesitará consultar uno o varios elementos en particular. Para esto es importante conocer la indexación.\n",
    "\n",
    "- En python cada elemento dentro de una lista tienen un índice de acuerdo a su posición\n",
    "- Los índices empiezan en 0, no en 1 como en otros lenguajes\n",
    "- Estructura para hacer la consulta `lista[indice]` "
   ]
  },
  {
   "cell_type": "code",
   "execution_count": 44,
   "metadata": {
    "collapsed": true
   },
   "outputs": [
    {
     "name": "stdout",
     "output_type": "stream",
     "text": [
      "26\n",
      "True\n"
     ]
    }
   ],
   "source": [
    "# Si queremos ver la edad de johan\n",
    "print(johan[1]) # la edad es el elemento 2, por eso se usa el indice 1\n",
    "print(johan[-1]) # is_male"
   ]
  },
  {
   "cell_type": "markdown",
   "metadata": {
    "slideshow": {
     "slide_type": "subslide"
    }
   },
   "source": [
    "Podría parecer buena idea reorganizar la lista de listas `hermanos` usando lo que ya hemos visto"
   ]
  },
  {
   "cell_type": "code",
   "execution_count": 49,
   "metadata": {
    "collapsed": true
   },
   "outputs": [
    {
     "name": "stdout",
     "output_type": "stream",
     "text": [
      "[['Johan', 'Jordan'], [26, 25], [5.1, 6.0], [True, True]]\n"
     ]
    }
   ],
   "source": [
    "#Reorganizando entonces la lista de listas\n",
    "hermanos2 = [[johan[0], jordan[0]], # nombres\n",
    "             [johan[1], jordan[1]], # edades\n",
    "             [johan[2], jordan[2]], # estaturas\n",
    "             [johan[3], jordan[3]]] # is_male\n",
    "\n",
    "print(hermanos2)  \n",
    "# Qué ventajas les parece que tienen esta opción?"
   ]
  },
  {
   "cell_type": "markdown",
   "metadata": {
    "slideshow": {
     "slide_type": "subslide"
    }
   },
   "source": [
    "**Ejercicios**"
   ]
  },
  {
   "cell_type": "markdown",
   "metadata": {},
   "source": [
    "1. Extraer la estatura de la lista `jordan`"
   ]
  },
  {
   "cell_type": "code",
   "execution_count": null,
   "metadata": {
    "collapsed": true
   },
   "outputs": [],
   "source": []
  },
  {
   "cell_type": "markdown",
   "metadata": {},
   "source": [
    "2. Extraer los datos de johan de la lista `hermanos`"
   ]
  },
  {
   "cell_type": "code",
   "execution_count": null,
   "metadata": {
    "collapsed": true
   },
   "outputs": [],
   "source": []
  },
  {
   "cell_type": "markdown",
   "metadata": {},
   "source": [
    "3. Extraer las edades de la lista `hermanos2`"
   ]
  },
  {
   "cell_type": "code",
   "execution_count": null,
   "metadata": {
    "collapsed": true
   },
   "outputs": [],
   "source": []
  },
  {
   "cell_type": "markdown",
   "metadata": {},
   "source": [
    "4. Extraer la edad de jordan, de la lista `hermanos2`"
   ]
  },
  {
   "cell_type": "code",
   "execution_count": null,
   "metadata": {
    "collapsed": true
   },
   "outputs": [],
   "source": []
  },
  {
   "cell_type": "markdown",
   "metadata": {
    "slideshow": {
     "slide_type": "slide"
    }
   },
   "source": [
    "### Paquetes en Python\n",
    "- Los paquetes son conjuntos de funciones y datos que ponen a nuestra disposición el trabajo de otros\n",
    "- Los paquetes se instalan el la consola general de la distribución de python que tenemos\n",
    "    - pip install package_name\n",
    "- Aunque tengamos un paquete instalado, siempre hay que cargarlo en la sección de trabajo para usar las funciones que contine\n",
    "    - import package_name as algo"
   ]
  },
  {
   "cell_type": "code",
   "execution_count": null,
   "metadata": {
    "collapsed": true
   },
   "outputs": [],
   "source": []
  },
  {
   "cell_type": "markdown",
   "metadata": {
    "slideshow": {
     "slide_type": "subslide"
    }
   },
   "source": [
    "**numpy**\n",
    "\n",
    "Este es el primer paquete que vamos a utilizar aquí, y nos será útil para crear `arrays`.\n",
    "\n",
    "**arrays**\n",
    "- Al igual que las listas pueden almacenar varios elementos\n",
    "- Son elementos atómicos (Sólo pueden contener elementos de la misma clase)\n",
    "- Su principal ventaja es que permite realizar operaciones vectorizadas"
   ]
  },
  {
   "cell_type": "code",
   "execution_count": 11,
   "metadata": {
    "collapsed": true
   },
   "outputs": [],
   "source": [
    "# importando el paquete\n",
    "import numpy as np"
   ]
  },
  {
   "cell_type": "markdown",
   "metadata": {
    "slideshow": {
     "slide_type": "subslide"
    }
   },
   "source": [
    "**Diferencias prácticas entre las listas y los arrays**\n",
    "\n",
    "**Las listas**\n",
    "- La suma de dos listas simplemente combina ambas listas\n",
    "- La multiplicación repite n veces los elementos de la listas (Solo se amite un int)"
   ]
  },
  {
   "cell_type": "code",
   "execution_count": 3,
   "metadata": {
    "collapsed": true
   },
   "outputs": [],
   "source": [
    "# Creando algunas algunas listas\n",
    "bono1 = [500]; bono2 = [600]\n",
    "tasa_bono1 = [1.06]; tasa_bono2 = [1.06]"
   ]
  },
  {
   "cell_type": "code",
   "execution_count": 4,
   "metadata": {
    "collapsed": true
   },
   "outputs": [
    {
     "name": "stdout",
     "output_type": "stream",
     "text": [
      "[500, 600]\n"
     ]
    }
   ],
   "source": [
    "bonos = bono1 + bono2\n",
    "print(bonos)"
   ]
  },
  {
   "cell_type": "code",
   "execution_count": 5,
   "metadata": {
    "collapsed": true
   },
   "outputs": [
    {
     "name": "stdout",
     "output_type": "stream",
     "text": [
      "[1.06, 1.06]\n"
     ]
    }
   ],
   "source": [
    "tasas = tasa_bono1 + tasa_bono2\n",
    "print(tasas)"
   ]
  },
  {
   "cell_type": "code",
   "execution_count": 6,
   "metadata": {
    "collapsed": true
   },
   "outputs": [
    {
     "name": "stdout",
     "output_type": "stream",
     "text": [
      "[500, 500]\n"
     ]
    }
   ],
   "source": [
    "print(bono1 * 2)"
   ]
  },
  {
   "cell_type": "markdown",
   "metadata": {
    "slideshow": {
     "slide_type": "subslide"
    }
   },
   "source": [
    "**Los array**\n",
    "\n",
    "Para crear arrays se utiliza la función `np.array()` de numpy, simplemente se necesita una lista con elementos de la misma clase."
   ]
  },
  {
   "cell_type": "code",
   "execution_count": 10,
   "metadata": {
    "collapsed": true
   },
   "outputs": [],
   "source": [
    "# Creando un array\n",
    "ingreso = np.array([25000, 30000, 18000, 15000, 60000])\n",
    "\n",
    "# comvirtiendo las listas en array\n",
    "bonos_array = np.array(bonos)\n",
    "tasas_array = np.array(tasas)"
   ]
  },
  {
   "cell_type": "markdown",
   "metadata": {},
   "source": [
    "Ya que tenemos dos arrays podemos hacer operaciones vectorizadas con ellas. Por ejemplo multiplicar cada bono por su tasa"
   ]
  },
  {
   "cell_type": "code",
   "execution_count": 9,
   "metadata": {
    "collapsed": true
   },
   "outputs": [
    {
     "name": "stdout",
     "output_type": "stream",
     "text": [
      "[530. 636.]\n"
     ]
    }
   ],
   "source": [
    "print(bonos_array * tasas_array)"
   ]
  },
  {
   "cell_type": "markdown",
   "metadata": {
    "slideshow": {
     "slide_type": "slide"
    }
   },
   "source": [
    "#### Métodos de los objetos\n",
    "\n",
    "En python, como en c++ y otros lenguajes, los objetos tienen atributos dependiendo el tipo de objeto (Programación orientada a objetos)\n",
    "\n",
    "Ejemplos."
   ]
  },
  {
   "cell_type": "code",
   "execution_count": 22,
   "metadata": {
    "collapsed": true
   },
   "outputs": [
    {
     "name": "stdout",
     "output_type": "stream",
     "text": [
      "29600.0\n",
      "60000\n",
      "15000\n",
      "148000\n"
     ]
    }
   ],
   "source": [
    "# Para arrays númericos\n",
    "print(ingreso.mean()); print(ingreso.max()); print(ingreso.min())\n",
    "print(ingreso.sum())"
   ]
  },
  {
   "cell_type": "code",
   "execution_count": 29,
   "metadata": {
    "collapsed": true
   },
   "outputs": [
    {
     "name": "stdout",
     "output_type": "stream",
     "text": [
      "JOHAN\n"
     ]
    }
   ],
   "source": [
    "# Para strings\n",
    "print(\"johan\".upper())\n",
    "print(\"JOHAN\".lower())"
   ]
  },
  {
   "cell_type": "markdown",
   "metadata": {
    "slideshow": {
     "slide_type": "slide"
    }
   },
   "source": [
    "#### Visualización de datos: una pincelada\n",
    "Para las visualizaciones usaremos el paquete matplotlib"
   ]
  },
  {
   "cell_type": "code",
   "execution_count": 41,
   "metadata": {},
   "outputs": [],
   "source": [
    "import matplotlib.pyplot as plt\n",
    "plt.rcParams['figure.figsize'] = [9, 4]\n",
    "\n",
    "# Creando algunos objetos para hacer gráficos\n",
    "year = [2000, 2001, 2002, 2003, 2004, 2005, 2006, 2007, 2008, 2009]\n",
    "ingreso = [19000, 21000, 21000, 24000, 25000, 30000, 31000, 35000, 40000, 50000]\n",
    "gasto_tc = [19000, 16000, 22000, 16000, 20000, 22000, 24000, 30000, 45000, 40000]"
   ]
  },
  {
   "cell_type": "markdown",
   "metadata": {
    "slideshow": {
     "slide_type": "slide"
    }
   },
   "source": [
    "#### Un gráfico de líneas"
   ]
  },
  {
   "cell_type": "code",
   "execution_count": 54,
   "metadata": {},
   "outputs": [
    {
     "data": {
      "image/png": "[encoded data removed]",
      "text/plain": [
       "<Figure size 648x288 with 1 Axes>"
      ]
     },
     "metadata": {
      "needs_background": "light"
     },
     "output_type": "display_data"
    }
   ],
   "source": [
    "# un gráfico de líneas\n",
    "plt.plot(year, ingreso, label = \"Ingreso\")\n",
    "plt.plot(year, gasto_tc, label = \"Gasto\")\n",
    "plt.xlabel(\"Year\") # titulo del eje x\n",
    "plt.ylabel(\"RD$\") # etiqueta del eje y\n",
    "plt.title(\"Ingreso percibido\") # titulo del gráfico\n",
    "plt.yticks([20000, 25000, 30000, 35000, 40000, 45000, 50000],\n",
    "           ['20,000', '25,000', '30,000', '35,000', '40,000', '45,000', '50,000'])\n",
    "#plt.grid(True) # agregando lineas de orientación al gráfico\n",
    " # para modificar el texto del gráfico se añaden dos listas, una con los valores originales y otra con\n",
    " # los valores deseados\n",
    "plt.show()"
   ]
  },
  {
   "cell_type": "markdown",
   "metadata": {
    "slideshow": {
     "slide_type": "subslide"
    }
   },
   "source": [
    "#### Un gráfico de dispersión"
   ]
  },
  {
   "cell_type": "code",
   "execution_count": 55,
   "metadata": {},
   "outputs": [
    {
     "data": {
      "image/png": "[encoded data removed]",
      "text/plain": [
       "<Figure size 648x288 with 1 Axes>"
      ]
     },
     "metadata": {
      "needs_background": "light"
     },
     "output_type": "display_data"
    }
   ],
   "source": [
    "# Gráfico de dispersión\n",
    "plt.scatter(ingreso, gasto_tc)\n",
    "#plt.grid(True) # agregando lineas de orientación al gráfico\n",
    "plt.show()"
   ]
  }
 ],
 "metadata": {
  "celltoolbar": "Slideshow",
  "kernelspec": {
   "display_name": "Python 3",
   "language": "python",
   "name": "python3"
  },
  "language_info": {
   "codemirror_mode": {
    "name": "ipython",
    "version": 3
   },
   "file_extension": ".py",
   "mimetype": "text/x-python",
   "name": "python",
   "nbconvert_exporter": "python",
   "pygments_lexer": "ipython3",
   "version": "3.7.1"
  }
 },
 "nbformat": 4,
 "nbformat_minor": 2
}
