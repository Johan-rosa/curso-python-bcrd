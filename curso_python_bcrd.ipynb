{
 "cells": [
  {
   "cell_type": "code",
   "execution_count": null,
   "metadata": {
    "slideshow": {
     "slide_type": "skip"
    }
   },
   "outputs": [],
   "source": [
    "import numpy as np\n",
    "import pandas as pd\n",
    "import matplotlib as plt"
   ]
  },
  {
   "cell_type": "markdown",
   "metadata": {
    "slideshow": {
     "slide_type": "slide"
    }
   },
   "source": [
    "<h1><center> Introducción a Python </h1>\n",
    "\n",
    "<h3><center> Johan Rosa y Jesús Sánchez </h3>\n",
    "<h4><center> Julio 2019 </h4>"
   ]
  },
  {
   "cell_type": "markdown",
   "metadata": {
    "slideshow": {
     "slide_type": "slide"
    }
   },
   "source": [
    "### Objetivo\n",
    "\n",
    "Socializar algunas notas sobre la programación con `python`, de cara al curso de métodos numéricos que se aproxima. "
   ]
  },
  {
   "cell_type": "markdown",
   "metadata": {
    "slideshow": {
     "slide_type": "slide"
    }
   },
   "source": [
    "### Contenido\n",
    "\n",
    "- Python como un calculadora\n",
    "- Creación y manipulación de objetos\n",
    "- Instalar paquetes\n",
    "- Visualizaciones de datos\n",
    "- Objetos de dos dimensiones\n",
    "- Comparadores lógicos y sentencias condicionales\n",
    "- Loops \n",
    "- Definición de funciones\n"
   ]
  },
  {
   "cell_type": "markdown",
   "metadata": {
    "slideshow": {
     "slide_type": "slide"
    }
   },
   "source": [
    "\n",
    "## Python como una calculadora\n",
    "En python se usan operadores para realizar operaciones aritméticas como la suma, multiplicación y división."
   ]
  },
  {
   "cell_type": "code",
   "execution_count": 2,
   "metadata": {},
   "outputs": [
    {
     "name": "stdout",
     "output_type": "stream",
     "text": [
      "10\n"
     ]
    }
   ],
   "source": [
    "# Aritmética\n",
    "print(5 + 5) # suma"
   ]
  },
  {
   "cell_type": "code",
   "execution_count": 3,
   "metadata": {},
   "outputs": [
    {
     "name": "stdout",
     "output_type": "stream",
     "text": [
      "5\n"
     ]
    }
   ],
   "source": [
    "print(10 - 5) # resta"
   ]
  },
  {
   "cell_type": "code",
   "execution_count": 4,
   "metadata": {},
   "outputs": [
    {
     "name": "stdout",
     "output_type": "stream",
     "text": [
      "27.5\n"
     ]
    }
   ],
   "source": [
    "print(5.5 * 5) # multiplicación"
   ]
  },
  {
   "cell_type": "code",
   "execution_count": 5,
   "metadata": {},
   "outputs": [
    {
     "name": "stdout",
     "output_type": "stream",
     "text": [
      "5.0\n"
     ]
    }
   ],
   "source": [
    "print(10 / 2) # división"
   ]
  },
  {
   "cell_type": "code",
   "execution_count": 6,
   "metadata": {
    "slideshow": {
     "slide_type": "-"
    }
   },
   "outputs": [
    {
     "name": "stdout",
     "output_type": "stream",
     "text": [
      "100\n"
     ]
    }
   ],
   "source": [
    "print(10 ** 2) # potenciación"
   ]
  },
  {
   "cell_type": "markdown",
   "metadata": {
    "slideshow": {
     "slide_type": "slide"
    }
   },
   "source": [
    "## Creando y manipulando objetos\n",
    "Los objetos/variables son elementos que residen en el ambiente de trabajo y pueden contener valores que sean el resultado de una operación, o  bien un valor arbitrario dado por el usuario.\n",
    "\n",
    "### Tipos de objetos (básicos)\n",
    " - **Strings** contienen texto\n",
    " - **Integer** contienen números enteros\n",
    " - **Float** contienen números reales\n",
    " - **Boolean** contienen `True` o `False`"
   ]
  },
  {
   "cell_type": "markdown",
   "metadata": {
    "slideshow": {
     "slide_type": "subslide"
    }
   },
   "source": [
    "### Una muestra"
   ]
  },
  {
   "cell_type": "code",
   "execution_count": 7,
   "metadata": {
    "slideshow": {
     "slide_type": "-"
    }
   },
   "outputs": [
    {
     "data": {
      "text/plain": [
       "str"
      ]
     },
     "execution_count": 7,
     "metadata": {},
     "output_type": "execute_result"
    }
   ],
   "source": [
    "# Tipos de objetos\n",
    "my_name = \"Johan\"; type(my_name) "
   ]
  },
  {
   "cell_type": "code",
   "execution_count": 8,
   "metadata": {},
   "outputs": [
    {
     "data": {
      "text/plain": [
       "int"
      ]
     },
     "execution_count": 8,
     "metadata": {},
     "output_type": "execute_result"
    }
   ],
   "source": [
    "my_age = 26; type(my_age)"
   ]
  },
  {
   "cell_type": "code",
   "execution_count": 9,
   "metadata": {},
   "outputs": [
    {
     "data": {
      "text/plain": [
       "float"
      ]
     },
     "execution_count": 9,
     "metadata": {},
     "output_type": "execute_result"
    }
   ],
   "source": [
    "my_height = 5.10; type(my_height) "
   ]
  },
  {
   "cell_type": "code",
   "execution_count": 10,
   "metadata": {},
   "outputs": [
    {
     "data": {
      "text/plain": [
       "bool"
      ]
     },
     "execution_count": 10,
     "metadata": {},
     "output_type": "execute_result"
    }
   ],
   "source": [
    "is_male = True; type(is_male)"
   ]
  },
  {
   "cell_type": "markdown",
   "metadata": {
    "slideshow": {
     "slide_type": "subslide"
    }
   },
   "source": [
    "### Listas \n",
    "- Pueden contener varios elementos\n",
    "- Estos elementos pueden ser de diferentes tipos\n",
    "- Para definirlos se utilizan  `[]` y se separan por `,`"
   ]
  },
  {
   "cell_type": "code",
   "execution_count": 11,
   "metadata": {},
   "outputs": [
    {
     "name": "stdout",
     "output_type": "stream",
     "text": [
      "['Johan', 26, 5.1, True]\n",
      "['Jordan', 25, 6.0, True]\n"
     ]
    }
   ],
   "source": [
    "# Creando listas\n",
    "johan = ['Johan', 26, 5.10, True]; print(johan)\n",
    "# johan2 = [my_name, my_age, my_height, is_male]; print(johan2)\n",
    "jordan = ['Jordan', 25, 6.0, True]; print(jordan)"
   ]
  },
  {
   "cell_type": "markdown",
   "metadata": {
    "slideshow": {
     "slide_type": "subslide"
    }
   },
   "source": [
    "### Listas\n",
    "Las lista pueden almacenar cualquier tipo de objetos, incluso otras listas."
   ]
  },
  {
   "cell_type": "code",
   "execution_count": 12,
   "metadata": {},
   "outputs": [
    {
     "name": "stdout",
     "output_type": "stream",
     "text": [
      "[['Johan', 26, 5.1, True], ['Jordan', 25, 6.0, True]]\n"
     ]
    }
   ],
   "source": [
    "hermanos = [johan, jordan]\n",
    "print(hermanos)"
   ]
  },
  {
   "cell_type": "markdown",
   "metadata": {
    "slideshow": {
     "slide_type": "slide"
    }
   },
   "source": [
    "### Accediendo a los elementos de una lista\n",
    "\n",
    "Ya que las listas almacenan varios elementos, eventualmente se necesitará consultar uno o varios elementos en particular. Para esto es importante conocer la indexación.\n",
    "\n",
    "- En `python` cada elemento dentro de una `lista` tiene un índice de acuerdo a su posición\n",
    "- Los índices empiezan en 0, no en 1 como en otros lenguajes\n",
    "- Estructura para hacer la consulta `lista[indice]` "
   ]
  },
  {
   "cell_type": "code",
   "execution_count": 13,
   "metadata": {},
   "outputs": [
    {
     "name": "stdout",
     "output_type": "stream",
     "text": [
      "26\n",
      "True\n"
     ]
    }
   ],
   "source": [
    "# Si queremos ver la edad de johan\n",
    "print(johan[1]) # la edad es el elemento 2, por eso se usa el indice 1\n",
    "print(johan[-1]) # is_male "
   ]
  },
  {
   "cell_type": "markdown",
   "metadata": {
    "slideshow": {
     "slide_type": "subslide"
    }
   },
   "source": [
    "Podría parecer buena idea reorganizar la lista de listas `hermanos` usando lo que ya hemos visto"
   ]
  },
  {
   "cell_type": "code",
   "execution_count": 14,
   "metadata": {},
   "outputs": [
    {
     "name": "stdout",
     "output_type": "stream",
     "text": [
      "[['Johan', 'Jordan'], [26, 25], [5.1, 6.0], [True, True]]\n"
     ]
    }
   ],
   "source": [
    "#Reorganizando entonces la lista de listas\n",
    "hermanos2 = [[johan[0], jordan[0]], # nombres\n",
    "             [johan[1], jordan[1]], # edades\n",
    "             [johan[2], jordan[2]], # estaturas\n",
    "             [johan[3], jordan[3]]] # is_male\n",
    "\n",
    "print(hermanos2)   \n",
    "# Qué ventajas les parece que tienen esta opción? "
   ]
  },
  {
   "cell_type": "markdown",
   "metadata": {
    "slideshow": {
     "slide_type": "subslide"
    }
   },
   "source": [
    "**Ejercicios**"
   ]
  },
  {
   "cell_type": "markdown",
   "metadata": {},
   "source": [
    "1. Extraer la estatura de la lista `jordan`"
   ]
  },
  {
   "cell_type": "code",
   "execution_count": null,
   "metadata": {},
   "outputs": [],
   "source": []
  },
  {
   "cell_type": "markdown",
   "metadata": {},
   "source": [
    "2. Extraer los datos de johan de la lista `hermanos`"
   ]
  },
  {
   "cell_type": "code",
   "execution_count": null,
   "metadata": {},
   "outputs": [],
   "source": []
  },
  {
   "cell_type": "markdown",
   "metadata": {},
   "source": [
    "3. Extraer las edades de la lista `hermanos2`"
   ]
  },
  {
   "cell_type": "code",
   "execution_count": null,
   "metadata": {},
   "outputs": [],
   "source": []
  },
  {
   "cell_type": "markdown",
   "metadata": {},
   "source": [
    "4. Extraer la edad de jordan, de la lista `hermanos2`"
   ]
  },
  {
   "cell_type": "code",
   "execution_count": null,
   "metadata": {},
   "outputs": [],
   "source": []
  },
  {
   "cell_type": "markdown",
   "metadata": {
    "slideshow": {
     "slide_type": "slide"
    }
   },
   "source": [
    "### Paquetes en Python\n",
    "- Los paquetes son conjuntos de funciones y datos que ponen a nuestra disposición el trabajo de otros\n",
    "- Los paquetes se instalan el la consola general de la distribución de python que tenemos\n",
    "    - `pip install package_name`\n",
    "- Aunque tengamos un paquete instalado, siempre hay que cargarlo en la sección de trabajo para usar las funciones que contine\n",
    "    - `import package_name as algo`"
   ]
  },
  {
   "cell_type": "code",
   "execution_count": null,
   "metadata": {},
   "outputs": [],
   "source": []
  },
  {
   "cell_type": "markdown",
   "metadata": {
    "slideshow": {
     "slide_type": "subslide"
    }
   },
   "source": [
    "**numpy**\n",
    "\n",
    "Este es el primer paquete que vamos a utilizar aquí, y nos será útil para crear `arrays`.\n",
    "\n",
    "**arrays**\n",
    "- Al igual que las listas, pueden almacenar varios elementos\n",
    "- Son elementos atómicos (Sólo pueden contener elementos de la misma clase)\n",
    "- Su principal ventaja es que permite realizar operaciones vectorizadas"
   ]
  },
  {
   "cell_type": "code",
   "execution_count": 19,
   "metadata": {},
   "outputs": [],
   "source": [
    "# importando el paquete\n",
    "import numpy as np  "
   ]
  },
  {
   "cell_type": "markdown",
   "metadata": {
    "slideshow": {
     "slide_type": "subslide"
    }
   },
   "source": [
    "**Diferencias prácticas entre las listas y los arrays**\n",
    "\n",
    "**Las listas**\n",
    "- La suma de dos listas simplemente combina ambas listas\n",
    "- La multiplicación repite n veces los elementos de la listas (Solo se amite un int)"
   ]
  },
  {
   "cell_type": "code",
   "execution_count": 21,
   "metadata": {},
   "outputs": [],
   "source": [
    "# Creando algunas algunas listas\n",
    "bono1 = [500]; bono2 = [600]\n",
    "tasa_bono1 = [1.06]; tasa_bono2 = [1.06]"
   ]
  },
  {
   "cell_type": "code",
   "execution_count": 22,
   "metadata": {},
   "outputs": [
    {
     "name": "stdout",
     "output_type": "stream",
     "text": [
      "[500, 600]\n"
     ]
    }
   ],
   "source": [
    "bonos = bono1 + bono2\n",
    "print(bonos)"
   ]
  },
  {
   "cell_type": "code",
   "execution_count": 23,
   "metadata": {},
   "outputs": [
    {
     "name": "stdout",
     "output_type": "stream",
     "text": [
      "[1.06, 1.06]\n"
     ]
    }
   ],
   "source": [
    "tasas = tasa_bono1 + tasa_bono2\n",
    "print(tasas)"
   ]
  },
  {
   "cell_type": "code",
   "execution_count": 24,
   "metadata": {},
   "outputs": [
    {
     "name": "stdout",
     "output_type": "stream",
     "text": [
      "[500, 500]\n"
     ]
    }
   ],
   "source": [
    "print(bono1 * 2)"
   ]
  },
  {
   "cell_type": "markdown",
   "metadata": {
    "slideshow": {
     "slide_type": "subslide"
    }
   },
   "source": [
    "**Los array**\n",
    "\n",
    "Para crear arrays se utiliza la función `np.array()` de numpy, simplemente se necesita una lista con elementos de la misma clase."
   ]
  },
  {
   "cell_type": "code",
   "execution_count": 26,
   "metadata": {},
   "outputs": [],
   "source": [
    "# Creando un array\n",
    "ingreso = np.array([25000, 30000, 18000, 15000, 60000])\n",
    "\n",
    "# comvirtiendo las listas en array\n",
    "bonos_array = np.array(bonos)\n",
    "tasas_array = np.array(tasas)"
   ]
  },
  {
   "cell_type": "markdown",
   "metadata": {},
   "source": [
    "Ya que tenemos dos arrays podemos hacer operaciones vectorizadas con ellas. Por ejemplo multiplicar cada bono por su tasa"
   ]
  },
  {
   "cell_type": "code",
   "execution_count": 27,
   "metadata": {},
   "outputs": [
    {
     "name": "stdout",
     "output_type": "stream",
     "text": [
      "[530. 636.]\n"
     ]
    }
   ],
   "source": [
    "print(bonos_array * tasas_array)"
   ]
  },
  {
   "cell_type": "markdown",
   "metadata": {
    "slideshow": {
     "slide_type": "slide"
    }
   },
   "source": [
    "#### Métodos de los objetos\n",
    "\n",
    "En `python`, como en `c++` y otros lenguajes, los objetos tienen atributos dependiendo el tipo de objeto (Programación orientada a objetos)\n",
    "\n",
    "Ejemplos."
   ]
  },
  {
   "cell_type": "code",
   "execution_count": 28,
   "metadata": {},
   "outputs": [
    {
     "name": "stdout",
     "output_type": "stream",
     "text": [
      "29600.0\n",
      "60000\n",
      "15000\n",
      "148000\n"
     ]
    }
   ],
   "source": [
    "# Para arrays númericos\n",
    "print(ingreso.mean()); print(ingreso.max()); print(ingreso.min())\n",
    "print(ingreso.sum())  "
   ]
  },
  {
   "cell_type": "code",
   "execution_count": 29,
   "metadata": {},
   "outputs": [
    {
     "name": "stdout",
     "output_type": "stream",
     "text": [
      "JOHAN\n",
      "johan\n"
     ]
    }
   ],
   "source": [
    "# Para strings\n",
    "print(\"johan\".upper())\n",
    "print(\"JOHAN\".lower())"
   ]
  },
  {
   "cell_type": "markdown",
   "metadata": {
    "slideshow": {
     "slide_type": "slide"
    }
   },
   "source": [
    "### Visualización de datos: una pincelada\n",
    "Para las visualizaciones usaremos el paquete `matplotlib`"
   ]
  },
  {
   "cell_type": "code",
   "execution_count": 31,
   "metadata": {},
   "outputs": [],
   "source": [
    "import matplotlib.pyplot as plt\n",
    "plt.rcParams['figure.figsize'] = [15, 12]\n",
    "\n",
    "# Creando algunos objetos para hacer gráficos\n",
    "year = [2000, 2001, 2002, 2003, 2004, 2005, 2006, 2007, 2008, 2009]\n",
    "ingreso = [19000, 21000, 21000, 24000, 25000, 30000, 31000, 35000, 40000, 50000]\n",
    "gasto_tc = [19000, 16000, 22000, 16000, 20000, 22000, 24000, 30000, 45000, 40000]"
   ]
  },
  {
   "cell_type": "markdown",
   "metadata": {
    "slideshow": {
     "slide_type": "subslide"
    }
   },
   "source": [
    "### Un gráfico de líneas"
   ]
  },
  {
   "cell_type": "code",
   "execution_count": 32,
   "metadata": {
    "slideshow": {
     "slide_type": "-"
    }
   },
   "outputs": [
    {
     "data": {
      "image/png": "[encoded data removed]",
      "text/plain": [
       "<Figure size 1080x864 with 1 Axes>"
      ]
     },
     "metadata": {
      "needs_background": "light"
     },
     "output_type": "display_data"
    }
   ],
   "source": [
    "# un gráfico de líneas\n",
    "plt.plot(year, ingreso, label = \"Ingreso\")\n",
    "plt.xlabel(\"Year\") # titulo del eje x\n",
    "plt.ylabel(\"RD$\") # etiqueta del eje y\n",
    "plt.title(\"Ingreso percibido\") # titulo del gráfico\n",
    "plt.yticks([20000, 25000, 30000, 35000, 40000, 45000, 50000],\n",
    "           ['20,000', '25,000', '30,000', '35,000', '40,000', '45,000', '50,000'])\n",
    "#plt.grid(True) # agregando lineas de orientación al gráfico\n",
    " # para modificar el texto del gráfico se añaden dos listas, una con los valores originales y otra con\n",
    " # los valores deseados\n",
    "plt.show() "
   ]
  },
  {
   "cell_type": "markdown",
   "metadata": {
    "slideshow": {
     "slide_type": "subslide"
    }
   },
   "source": [
    "### Un gráfico de dispersión"
   ]
  },
  {
   "cell_type": "code",
   "execution_count": 33,
   "metadata": {},
   "outputs": [
    {
     "data": {
      "image/png": "[encoded data removed]",
      "text/plain": [
       "<Figure size 1080x864 with 1 Axes>"
      ]
     },
     "metadata": {
      "needs_background": "light"
     },
     "output_type": "display_data"
    }
   ],
   "source": [
    "# Gráfico de dispersión\n",
    "plt.scatter(ingreso, gasto_tc)\n",
    "#plt.grid(True) # agregando lineas de orientación al gráfico\n",
    "plt.show()"
   ]
  },
  {
   "cell_type": "markdown",
   "metadata": {
    "slideshow": {
     "slide_type": "slide"
    }
   },
   "source": [
    "### Objetos con más dimensiones\n",
    "Este tipo de objetos, a diferencia de las `listas` y `arrays`, tienen otros atributos . Entre los más comunes están los diccionarios y los data frame.\n",
    "\n",
    "#### Diccionarios\n",
    "\n",
    "- Guardan información referenciada a una etiqueta\n",
    "- Las etiquetas son únicas en cada diccionario\n",
    "- Se declaran usando `{}` (Las listas usaban `[]`)\n",
    "- Los diccionarios pueden contener elementos de distitos tipo"
   ]
  },
  {
   "cell_type": "markdown",
   "metadata": {},
   "source": [
    "#### Creando y manipulando diccionarios"
   ]
  },
  {
   "cell_type": "markdown",
   "metadata": {},
   "source": [
    "- Guardan información referenciada a una etiqueta y se crean con `{}`"
   ]
  },
  {
   "cell_type": "code",
   "execution_count": 34,
   "metadata": {},
   "outputs": [
    {
     "name": "stdout",
     "output_type": "stream",
     "text": [
      "{'Johan': 26, 'Jordan': 25, 'Johanna': 30, 'Felix': 52, 'Ydaisa': 52, 'Elhan': 2}\n"
     ]
    }
   ],
   "source": [
    "edades = {'Johan': 26, 'Jordan': 25, 'Johanna': 30, 'Felix': 52, 'Ydaisa': 52, 'Elhan': 2}\n",
    "print(edades)"
   ]
  },
  {
   "cell_type": "code",
   "execution_count": 35,
   "metadata": {},
   "outputs": [
    {
     "name": "stdout",
     "output_type": "stream",
     "text": [
      "26\n",
      "30\n"
     ]
    }
   ],
   "source": [
    "print(edades['Johan']); print(edades['Johanna'])"
   ]
  },
  {
   "cell_type": "markdown",
   "metadata": {
    "slideshow": {
     "slide_type": "subslide"
    }
   },
   "source": [
    "- Las listas pueden contener información de distitos tipo"
   ]
  },
  {
   "cell_type": "code",
   "execution_count": 36,
   "metadata": {},
   "outputs": [
    {
     "name": "stdout",
     "output_type": "stream",
     "text": [
      "{'name': ['Johan', 'Johanna', 'Jordan'], 'edad': [26, 30, 25], 'estatura': [5.1, 5.04, 5.11], 'Es hombre': [True, False, True]}\n"
     ]
    }
   ],
   "source": [
    "# Los diccionario pueden contener elementos de distintos tipos.\n",
    "Johan = {'name': 'Johan', 'edad': 26, 'estatura': 5.10, 'Es hombre': True}\n",
    "\n",
    "# Ahora una lista más larga\n",
    "hermanos3 = {'name': ['Johan', 'Johanna', 'Jordan'], 'edad': [26, 30, 25],\n",
    "             'estatura': [5.10, 5.04, 5.11], 'Es hombre': [True, False, True]}\n",
    "print(hermanos3)"
   ]
  },
  {
   "cell_type": "markdown",
   "metadata": {},
   "source": [
    "- Las etiquetas son únicas"
   ]
  },
  {
   "cell_type": "code",
   "execution_count": 37,
   "metadata": {},
   "outputs": [
    {
     "name": "stdout",
     "output_type": "stream",
     "text": [
      "{'name': 'Johan', 'edad': 27, 'estatura': 5.1, 'Es hombre': True}\n",
      "{'name': 'Johan', 'edad': 27, 'estatura': 5.1, 'Es hombre': True, 'skin': 'black'}\n",
      "{'name': 'Johan', 'edad': 27, 'estatura': 5.1, 'Es hombre': True}\n"
     ]
    }
   ],
   "source": [
    "#Imaginemos que la edad cambió\n",
    "Johan['edad'] = 27\n",
    "print(Johan)\n",
    "\n",
    "# De esta misma forma podemos agregar elementos, siempre y cuando la clave no sea igual a una preexistente\n",
    "Johan['skin'] = 'black'\n",
    "print(Johan)\n",
    "\n",
    "# Para eliminar un elemento del diccionario podemos utilizar la función `del()`\n",
    "del(Johan['skin'])\n",
    " \n",
    "print(Johan)"
   ]
  },
  {
   "cell_type": "markdown",
   "metadata": {
    "slideshow": {
     "slide_type": "slide"
    }
   },
   "source": [
    "### Data Frame\n",
    "- Estructuras rectangurales de datos\n",
    "- Para crearlas y manipularlas en python se suele usar el paquete `pandas`\n",
    "- Se importan desde archivos `.txt`, `.csv`, `.xlsx`, `etc`.\n",
    "- También pueden ser creadas en el ambiente de trabajo"
   ]
  },
  {
   "cell_type": "code",
   "execution_count": 38,
   "metadata": {},
   "outputs": [
    {
     "name": "stdout",
     "output_type": "stream",
     "text": [
      "      name  edad  estatura  Es hombre\n",
      "0    Johan    26      5.10       True\n",
      "1  Johanna    30      5.04      False\n",
      "2   Jordan    25      5.11       True\n"
     ]
    }
   ],
   "source": [
    "# Importar el paqute\n",
    "import pandas as pd\n",
    "\n",
    "# Creando un `DF` desde un diccionario (Este diccionario se definió anteriormente)\n",
    "hermanos_df = pd.DataFrame(hermanos3)\n",
    "print(hermanos_df)"
   ]
  },
  {
   "cell_type": "markdown",
   "metadata": {
    "slideshow": {
     "slide_type": "-"
    }
   },
   "source": [
    "#### Importar data frame\n",
    "\n"
   ]
  },
  {
   "cell_type": "code",
   "execution_count": 40,
   "metadata": {},
   "outputs": [
    {
     "data": {
      "text/html": [
       "<div>\n",
       "<style scoped>\n",
       "    .dataframe tbody tr th:only-of-type {\n",
       "        vertical-align: middle;\n",
       "    }\n",
       "\n",
       "    .dataframe tbody tr th {\n",
       "        vertical-align: top;\n",
       "    }\n",
       "\n",
       "    .dataframe thead th {\n",
       "        text-align: right;\n",
       "    }\n",
       "</style>\n",
       "<table border=\"1\" class=\"dataframe\">\n",
       "  <thead>\n",
       "    <tr style=\"text-align: right;\">\n",
       "      <th></th>\n",
       "      <th>#</th>\n",
       "      <th>Name</th>\n",
       "      <th>Type 1</th>\n",
       "      <th>Type 2</th>\n",
       "      <th>Total</th>\n",
       "      <th>HP</th>\n",
       "      <th>Attack</th>\n",
       "      <th>Defense</th>\n",
       "      <th>Sp. Atk</th>\n",
       "      <th>Sp. Def</th>\n",
       "      <th>Speed</th>\n",
       "      <th>Generation</th>\n",
       "      <th>Legendary</th>\n",
       "    </tr>\n",
       "  </thead>\n",
       "  <tbody>\n",
       "    <tr>\n",
       "      <th>0</th>\n",
       "      <td>1</td>\n",
       "      <td>Bulbasaur</td>\n",
       "      <td>Grass</td>\n",
       "      <td>Poison</td>\n",
       "      <td>318</td>\n",
       "      <td>45</td>\n",
       "      <td>49</td>\n",
       "      <td>49</td>\n",
       "      <td>65</td>\n",
       "      <td>65</td>\n",
       "      <td>45</td>\n",
       "      <td>1</td>\n",
       "      <td>False</td>\n",
       "    </tr>\n",
       "    <tr>\n",
       "      <th>1</th>\n",
       "      <td>2</td>\n",
       "      <td>Ivysaur</td>\n",
       "      <td>Grass</td>\n",
       "      <td>Poison</td>\n",
       "      <td>405</td>\n",
       "      <td>60</td>\n",
       "      <td>62</td>\n",
       "      <td>63</td>\n",
       "      <td>80</td>\n",
       "      <td>80</td>\n",
       "      <td>60</td>\n",
       "      <td>1</td>\n",
       "      <td>False</td>\n",
       "    </tr>\n",
       "    <tr>\n",
       "      <th>2</th>\n",
       "      <td>3</td>\n",
       "      <td>Venusaur</td>\n",
       "      <td>Grass</td>\n",
       "      <td>Poison</td>\n",
       "      <td>525</td>\n",
       "      <td>80</td>\n",
       "      <td>82</td>\n",
       "      <td>83</td>\n",
       "      <td>100</td>\n",
       "      <td>100</td>\n",
       "      <td>80</td>\n",
       "      <td>1</td>\n",
       "      <td>False</td>\n",
       "    </tr>\n",
       "    <tr>\n",
       "      <th>3</th>\n",
       "      <td>3</td>\n",
       "      <td>VenusaurMega Venusaur</td>\n",
       "      <td>Grass</td>\n",
       "      <td>Poison</td>\n",
       "      <td>625</td>\n",
       "      <td>80</td>\n",
       "      <td>100</td>\n",
       "      <td>123</td>\n",
       "      <td>122</td>\n",
       "      <td>120</td>\n",
       "      <td>80</td>\n",
       "      <td>1</td>\n",
       "      <td>False</td>\n",
       "    </tr>\n",
       "    <tr>\n",
       "      <th>4</th>\n",
       "      <td>4</td>\n",
       "      <td>Charmander</td>\n",
       "      <td>Fire</td>\n",
       "      <td>NaN</td>\n",
       "      <td>309</td>\n",
       "      <td>39</td>\n",
       "      <td>52</td>\n",
       "      <td>43</td>\n",
       "      <td>60</td>\n",
       "      <td>50</td>\n",
       "      <td>65</td>\n",
       "      <td>1</td>\n",
       "      <td>False</td>\n",
       "    </tr>\n",
       "  </tbody>\n",
       "</table>\n",
       "</div>"
      ],
      "text/plain": [
       "   #                   Name Type 1  Type 2  Total  HP  Attack  Defense  \\\n",
       "0  1              Bulbasaur  Grass  Poison    318  45      49       49   \n",
       "1  2                Ivysaur  Grass  Poison    405  60      62       63   \n",
       "2  3               Venusaur  Grass  Poison    525  80      82       83   \n",
       "3  3  VenusaurMega Venusaur  Grass  Poison    625  80     100      123   \n",
       "4  4             Charmander   Fire     NaN    309  39      52       43   \n",
       "\n",
       "   Sp. Atk  Sp. Def  Speed  Generation  Legendary  \n",
       "0       65       65     45           1      False  \n",
       "1       80       80     60           1      False  \n",
       "2      100      100     80           1      False  \n",
       "3      122      120     80           1      False  \n",
       "4       60       50     65           1      False  "
      ]
     },
     "execution_count": 40,
     "metadata": {},
     "output_type": "execute_result"
    }
   ],
   "source": [
    "pokemon = pd.read_csv('Pokemon1.csv')\n",
    "pokemon.head()"
   ]
  },
  {
   "cell_type": "markdown",
   "metadata": {
    "slideshow": {
     "slide_type": "skip"
    }
   },
   "source": [
    "#### Ejercicos con Data Frames \n",
    "\n",
    "(Esto es para colocarlo en otro lugar)"
   ]
  },
  {
   "cell_type": "markdown",
   "metadata": {
    "slideshow": {
     "slide_type": "subslide"
    }
   },
   "source": [
    "### Accediendo a los elementos de un DF \n",
    "- Mediante corchetes `[]`\n",
    "- Métodos avanzados\n",
    "    - .loc\n",
    "    - .iloc\n",
    "    \n",
    "**Primero con corchetes**\n",
    "\n",
    "Para acceder a columnas completas `df['variable']` o `df[['variable']]`"
   ]
  },
  {
   "cell_type": "code",
   "execution_count": null,
   "metadata": {},
   "outputs": [],
   "source": [
    "print(pokemon.columns) # Consultando los nombres de las variables del data frame\n",
    "print(type(pokemon[\"Name\"])) # para acceder a una columna en particular. Esto es un array\n",
    "print(type(pokemon[[\"Name\"]])) # para acceder a una columna en particular"
   ]
  },
  {
   "cell_type": "code",
   "execution_count": null,
   "metadata": {},
   "outputs": [],
   "source": [
    "# Seleccionar más de una variable\n",
    "pokemon[['Name', \"Attack\"]].head(3)"
   ]
  },
  {
   "cell_type": "markdown",
   "metadata": {
    "slideshow": {
     "slide_type": "subslide"
    }
   },
   "source": [
    "**Acceder a filas concretas**\n",
    "\n",
    "Para acceder a una o varias filas en particular se utiliza el índice de la fila dentro de los corchetes."
   ]
  },
  {
   "cell_type": "code",
   "execution_count": 43,
   "metadata": {},
   "outputs": [
    {
     "name": "stdout",
     "output_type": "stream",
     "text": [
      "   #                   Name Type 1  Type 2  Total  HP  Attack  Defense  \\\n",
      "1  2                Ivysaur  Grass  Poison    405  60      62       63   \n",
      "2  3               Venusaur  Grass  Poison    525  80      82       83   \n",
      "3  3  VenusaurMega Venusaur  Grass  Poison    625  80     100      123   \n",
      "4  4             Charmander   Fire     NaN    309  39      52       43   \n",
      "\n",
      "   Sp. Atk  Sp. Def  Speed  Generation  Legendary  \n",
      "1       80       80     60           1      False  \n",
      "2      100      100     80           1      False  \n",
      "3      122      120     80           1      False  \n",
      "4       60       50     65           1      False  \n"
     ]
    }
   ],
   "source": [
    "print(pokemon[1:5])"
   ]
  },
  {
   "cell_type": "code",
   "execution_count": 47,
   "metadata": {},
   "outputs": [
    {
     "data": {
      "text/html": [
       "<div>\n",
       "<style scoped>\n",
       "    .dataframe tbody tr th:only-of-type {\n",
       "        vertical-align: middle;\n",
       "    }\n",
       "\n",
       "    .dataframe tbody tr th {\n",
       "        vertical-align: top;\n",
       "    }\n",
       "\n",
       "    .dataframe thead th {\n",
       "        text-align: right;\n",
       "    }\n",
       "</style>\n",
       "<table border=\"1\" class=\"dataframe\">\n",
       "  <thead>\n",
       "    <tr style=\"text-align: right;\">\n",
       "      <th></th>\n",
       "      <th>Name</th>\n",
       "      <th>Attack</th>\n",
       "      <th>Speed</th>\n",
       "      <th>Legendary</th>\n",
       "      <th>HP</th>\n",
       "    </tr>\n",
       "  </thead>\n",
       "  <tbody>\n",
       "    <tr>\n",
       "      <th>0</th>\n",
       "      <td>Bulbasaur</td>\n",
       "      <td>49</td>\n",
       "      <td>45</td>\n",
       "      <td>False</td>\n",
       "      <td>45</td>\n",
       "    </tr>\n",
       "    <tr>\n",
       "      <th>1</th>\n",
       "      <td>Ivysaur</td>\n",
       "      <td>62</td>\n",
       "      <td>60</td>\n",
       "      <td>False</td>\n",
       "      <td>60</td>\n",
       "    </tr>\n",
       "    <tr>\n",
       "      <th>2</th>\n",
       "      <td>Venusaur</td>\n",
       "      <td>82</td>\n",
       "      <td>80</td>\n",
       "      <td>False</td>\n",
       "      <td>80</td>\n",
       "    </tr>\n",
       "    <tr>\n",
       "      <th>3</th>\n",
       "      <td>VenusaurMega Venusaur</td>\n",
       "      <td>100</td>\n",
       "      <td>80</td>\n",
       "      <td>False</td>\n",
       "      <td>80</td>\n",
       "    </tr>\n",
       "  </tbody>\n",
       "</table>\n",
       "</div>"
      ],
      "text/plain": [
       "                    Name  Attack  Speed  Legendary  HP\n",
       "0              Bulbasaur      49     45      False  45\n",
       "1                Ivysaur      62     60      False  60\n",
       "2               Venusaur      82     80      False  80\n",
       "3  VenusaurMega Venusaur     100     80      False  80"
      ]
     },
     "execution_count": 47,
     "metadata": {},
     "output_type": "execute_result"
    }
   ],
   "source": [
    "pokemon[0:4][[\"Name\", \"Attack\", \"Speed\", \"Legendary\", \"HP\"]]\n",
    "# Esto no funcionaría\n",
    "# print(pokemon[1]) "
   ]
  },
  {
   "cell_type": "markdown",
   "metadata": {
    "slideshow": {
     "slide_type": "subslide"
    }
   },
   "source": [
    "**Ahora con los métodos `loc` y `iloc`**\n",
    "\n",
    "son utilizados para acceder a los elementos de un data frame. Suelen ser más flexibles que solo los corchetes y se basan en etiquetas e índices de posición, respectivamente.\n",
    "\n",
    "**Primero con `.loc`**"
   ]
  },
  {
   "cell_type": "code",
   "execution_count": 48,
   "metadata": {},
   "outputs": [
    {
     "data": {
      "text/html": [
       "<div>\n",
       "<style scoped>\n",
       "    .dataframe tbody tr th:only-of-type {\n",
       "        vertical-align: middle;\n",
       "    }\n",
       "\n",
       "    .dataframe tbody tr th {\n",
       "        vertical-align: top;\n",
       "    }\n",
       "\n",
       "    .dataframe thead th {\n",
       "        text-align: right;\n",
       "    }\n",
       "</style>\n",
       "<table border=\"1\" class=\"dataframe\">\n",
       "  <thead>\n",
       "    <tr style=\"text-align: right;\">\n",
       "      <th></th>\n",
       "      <th>#</th>\n",
       "      <th>Name</th>\n",
       "      <th>Type 1</th>\n",
       "      <th>Type 2</th>\n",
       "      <th>Total</th>\n",
       "      <th>HP</th>\n",
       "      <th>Attack</th>\n",
       "      <th>Defense</th>\n",
       "      <th>Sp. Atk</th>\n",
       "      <th>Sp. Def</th>\n",
       "      <th>Speed</th>\n",
       "      <th>Generation</th>\n",
       "      <th>Legendary</th>\n",
       "    </tr>\n",
       "    <tr>\n",
       "      <th>Name</th>\n",
       "      <th></th>\n",
       "      <th></th>\n",
       "      <th></th>\n",
       "      <th></th>\n",
       "      <th></th>\n",
       "      <th></th>\n",
       "      <th></th>\n",
       "      <th></th>\n",
       "      <th></th>\n",
       "      <th></th>\n",
       "      <th></th>\n",
       "      <th></th>\n",
       "      <th></th>\n",
       "    </tr>\n",
       "  </thead>\n",
       "  <tbody>\n",
       "    <tr>\n",
       "      <th>Ivysaur</th>\n",
       "      <td>2</td>\n",
       "      <td>Ivysaur</td>\n",
       "      <td>Grass</td>\n",
       "      <td>Poison</td>\n",
       "      <td>405</td>\n",
       "      <td>60</td>\n",
       "      <td>62</td>\n",
       "      <td>63</td>\n",
       "      <td>80</td>\n",
       "      <td>80</td>\n",
       "      <td>60</td>\n",
       "      <td>1</td>\n",
       "      <td>False</td>\n",
       "    </tr>\n",
       "  </tbody>\n",
       "</table>\n",
       "</div>"
      ],
      "text/plain": [
       "         #     Name Type 1  Type 2  Total  HP  Attack  Defense  Sp. Atk  \\\n",
       "Name                                                                      \n",
       "Ivysaur  2  Ivysaur  Grass  Poison    405  60      62       63       80   \n",
       "\n",
       "         Sp. Def  Speed  Generation  Legendary  \n",
       "Name                                            \n",
       "Ivysaur       80     60           1      False  "
      ]
     },
     "execution_count": 48,
     "metadata": {},
     "output_type": "execute_result"
    }
   ],
   "source": [
    "# Primero vamos a hacerle una pequeña modificación a data frame para que tenga como \n",
    "# label de filas el nombre del pokemon en cuestión\n",
    "pokemon.index = pokemon[\"Name\"] \n",
    "\n",
    "# Hecho esto podemos usar el metodo df.loc para acceder a los datos de pokemones mediales los labels\n",
    "pokemon.loc[[\"Ivysaur\"]]\n"
   ]
  },
  {
   "cell_type": "code",
   "execution_count": 50,
   "metadata": {
    "slideshow": {
     "slide_type": "-"
    }
   },
   "outputs": [
    {
     "data": {
      "text/html": [
       "<div>\n",
       "<style scoped>\n",
       "    .dataframe tbody tr th:only-of-type {\n",
       "        vertical-align: middle;\n",
       "    }\n",
       "\n",
       "    .dataframe tbody tr th {\n",
       "        vertical-align: top;\n",
       "    }\n",
       "\n",
       "    .dataframe thead th {\n",
       "        text-align: right;\n",
       "    }\n",
       "</style>\n",
       "<table border=\"1\" class=\"dataframe\">\n",
       "  <thead>\n",
       "    <tr style=\"text-align: right;\">\n",
       "      <th></th>\n",
       "      <th>#</th>\n",
       "      <th>Name</th>\n",
       "      <th>Type 1</th>\n",
       "      <th>Type 2</th>\n",
       "      <th>Total</th>\n",
       "      <th>HP</th>\n",
       "      <th>Attack</th>\n",
       "      <th>Defense</th>\n",
       "      <th>Sp. Atk</th>\n",
       "      <th>Sp. Def</th>\n",
       "      <th>Speed</th>\n",
       "      <th>Generation</th>\n",
       "      <th>Legendary</th>\n",
       "    </tr>\n",
       "    <tr>\n",
       "      <th>Name</th>\n",
       "      <th></th>\n",
       "      <th></th>\n",
       "      <th></th>\n",
       "      <th></th>\n",
       "      <th></th>\n",
       "      <th></th>\n",
       "      <th></th>\n",
       "      <th></th>\n",
       "      <th></th>\n",
       "      <th></th>\n",
       "      <th></th>\n",
       "      <th></th>\n",
       "      <th></th>\n",
       "    </tr>\n",
       "  </thead>\n",
       "  <tbody>\n",
       "    <tr>\n",
       "      <th>Pikachu</th>\n",
       "      <td>25</td>\n",
       "      <td>Pikachu</td>\n",
       "      <td>Electric</td>\n",
       "      <td>NaN</td>\n",
       "      <td>320</td>\n",
       "      <td>35</td>\n",
       "      <td>55</td>\n",
       "      <td>40</td>\n",
       "      <td>50</td>\n",
       "      <td>50</td>\n",
       "      <td>90</td>\n",
       "      <td>1</td>\n",
       "      <td>False</td>\n",
       "    </tr>\n",
       "    <tr>\n",
       "      <th>Bulbasaur</th>\n",
       "      <td>1</td>\n",
       "      <td>Bulbasaur</td>\n",
       "      <td>Grass</td>\n",
       "      <td>Poison</td>\n",
       "      <td>318</td>\n",
       "      <td>45</td>\n",
       "      <td>49</td>\n",
       "      <td>49</td>\n",
       "      <td>65</td>\n",
       "      <td>65</td>\n",
       "      <td>45</td>\n",
       "      <td>1</td>\n",
       "      <td>False</td>\n",
       "    </tr>\n",
       "    <tr>\n",
       "      <th>Squirtle</th>\n",
       "      <td>7</td>\n",
       "      <td>Squirtle</td>\n",
       "      <td>Water</td>\n",
       "      <td>NaN</td>\n",
       "      <td>314</td>\n",
       "      <td>44</td>\n",
       "      <td>48</td>\n",
       "      <td>65</td>\n",
       "      <td>50</td>\n",
       "      <td>64</td>\n",
       "      <td>43</td>\n",
       "      <td>1</td>\n",
       "      <td>False</td>\n",
       "    </tr>\n",
       "  </tbody>\n",
       "</table>\n",
       "</div>"
      ],
      "text/plain": [
       "            #       Name    Type 1  Type 2  Total  HP  Attack  Defense  \\\n",
       "Name                                                                     \n",
       "Pikachu    25    Pikachu  Electric     NaN    320  35      55       40   \n",
       "Bulbasaur   1  Bulbasaur     Grass  Poison    318  45      49       49   \n",
       "Squirtle    7   Squirtle     Water     NaN    314  44      48       65   \n",
       "\n",
       "           Sp. Atk  Sp. Def  Speed  Generation  Legendary  \n",
       "Name                                                       \n",
       "Pikachu         50       50     90           1      False  \n",
       "Bulbasaur       65       65     45           1      False  \n",
       "Squirtle        50       64     43           1      False  "
      ]
     },
     "execution_count": 50,
     "metadata": {},
     "output_type": "execute_result"
    }
   ],
   "source": [
    "# Ahora más de dos pokemones, o más. \n",
    "pokemon.loc[[\"Pikachu\", \"Bulbasaur\", \"Squirtle\"]]\n",
    "# Qué pokemon falta para completar esta lista?"
   ]
  },
  {
   "cell_type": "markdown",
   "metadata": {
    "slideshow": {
     "slide_type": "subslide"
    }
   },
   "source": [
    "**Seguimos con `.loc`**\n",
    "\n",
    "Ahora los datos de estos pokemones pero no de todas las columnas"
   ]
  },
  {
   "cell_type": "code",
   "execution_count": 51,
   "metadata": {},
   "outputs": [
    {
     "data": {
      "text/html": [
       "<div>\n",
       "<style scoped>\n",
       "    .dataframe tbody tr th:only-of-type {\n",
       "        vertical-align: middle;\n",
       "    }\n",
       "\n",
       "    .dataframe tbody tr th {\n",
       "        vertical-align: top;\n",
       "    }\n",
       "\n",
       "    .dataframe thead th {\n",
       "        text-align: right;\n",
       "    }\n",
       "</style>\n",
       "<table border=\"1\" class=\"dataframe\">\n",
       "  <thead>\n",
       "    <tr style=\"text-align: right;\">\n",
       "      <th></th>\n",
       "      <th>Attack</th>\n",
       "      <th>HP</th>\n",
       "    </tr>\n",
       "    <tr>\n",
       "      <th>Name</th>\n",
       "      <th></th>\n",
       "      <th></th>\n",
       "    </tr>\n",
       "  </thead>\n",
       "  <tbody>\n",
       "    <tr>\n",
       "      <th>Pikachu</th>\n",
       "      <td>55</td>\n",
       "      <td>35</td>\n",
       "    </tr>\n",
       "    <tr>\n",
       "      <th>Charmander</th>\n",
       "      <td>52</td>\n",
       "      <td>39</td>\n",
       "    </tr>\n",
       "  </tbody>\n",
       "</table>\n",
       "</div>"
      ],
      "text/plain": [
       "            Attack  HP\n",
       "Name                  \n",
       "Pikachu         55  35\n",
       "Charmander      52  39"
      ]
     },
     "execution_count": 51,
     "metadata": {},
     "output_type": "execute_result"
    }
   ],
   "source": [
    "pokemon.loc[[\"Pikachu\", \"Charmander\"], [\"Attack\", \"HP\"]]"
   ]
  },
  {
   "cell_type": "code",
   "execution_count": 52,
   "metadata": {},
   "outputs": [
    {
     "data": {
      "text/html": [
       "<div>\n",
       "<style scoped>\n",
       "    .dataframe tbody tr th:only-of-type {\n",
       "        vertical-align: middle;\n",
       "    }\n",
       "\n",
       "    .dataframe tbody tr th {\n",
       "        vertical-align: top;\n",
       "    }\n",
       "\n",
       "    .dataframe thead th {\n",
       "        text-align: right;\n",
       "    }\n",
       "</style>\n",
       "<table border=\"1\" class=\"dataframe\">\n",
       "  <thead>\n",
       "    <tr style=\"text-align: right;\">\n",
       "      <th></th>\n",
       "      <th>Attack</th>\n",
       "    </tr>\n",
       "    <tr>\n",
       "      <th>Name</th>\n",
       "      <th></th>\n",
       "    </tr>\n",
       "  </thead>\n",
       "  <tbody>\n",
       "    <tr>\n",
       "      <th>Bulbasaur</th>\n",
       "      <td>49</td>\n",
       "    </tr>\n",
       "    <tr>\n",
       "      <th>Ivysaur</th>\n",
       "      <td>62</td>\n",
       "    </tr>\n",
       "    <tr>\n",
       "      <th>Venusaur</th>\n",
       "      <td>82</td>\n",
       "    </tr>\n",
       "    <tr>\n",
       "      <th>VenusaurMega Venusaur</th>\n",
       "      <td>100</td>\n",
       "    </tr>\n",
       "    <tr>\n",
       "      <th>Charmander</th>\n",
       "      <td>52</td>\n",
       "    </tr>\n",
       "    <tr>\n",
       "      <th>Charmeleon</th>\n",
       "      <td>64</td>\n",
       "    </tr>\n",
       "    <tr>\n",
       "      <th>Charizard</th>\n",
       "      <td>84</td>\n",
       "    </tr>\n",
       "    <tr>\n",
       "      <th>CharizardMega Charizard X</th>\n",
       "      <td>130</td>\n",
       "    </tr>\n",
       "    <tr>\n",
       "      <th>CharizardMega Charizard Y</th>\n",
       "      <td>104</td>\n",
       "    </tr>\n",
       "    <tr>\n",
       "      <th>Squirtle</th>\n",
       "      <td>48</td>\n",
       "    </tr>\n",
       "    <tr>\n",
       "      <th>Wartortle</th>\n",
       "      <td>63</td>\n",
       "    </tr>\n",
       "    <tr>\n",
       "      <th>Blastoise</th>\n",
       "      <td>83</td>\n",
       "    </tr>\n",
       "  </tbody>\n",
       "</table>\n",
       "</div>"
      ],
      "text/plain": [
       "                           Attack\n",
       "Name                             \n",
       "Bulbasaur                      49\n",
       "Ivysaur                        62\n",
       "Venusaur                       82\n",
       "VenusaurMega Venusaur         100\n",
       "Charmander                     52\n",
       "Charmeleon                     64\n",
       "Charizard                      84\n",
       "CharizardMega Charizard X     130\n",
       "CharizardMega Charizard Y     104\n",
       "Squirtle                       48\n",
       "Wartortle                      63\n",
       "Blastoise                      83"
      ]
     },
     "execution_count": 52,
     "metadata": {},
     "output_type": "execute_result"
    }
   ],
   "source": [
    "# para ver todas las filas \n",
    "pokemon.loc[:, [\"Attack\"]].head(12) "
   ]
  },
  {
   "cell_type": "markdown",
   "metadata": {
    "slideshow": {
     "slide_type": "subslide"
    }
   },
   "source": [
    "**Ahora con `.iloc`**\n",
    "\n",
    "`df.iloc` se utiliza para acceder a las filas y columnas de un data frame mediante el índice de posición de estas."
   ]
  },
  {
   "cell_type": "code",
   "execution_count": 57,
   "metadata": {},
   "outputs": [
    {
     "data": {
      "text/html": [
       "<div>\n",
       "<style scoped>\n",
       "    .dataframe tbody tr th:only-of-type {\n",
       "        vertical-align: middle;\n",
       "    }\n",
       "\n",
       "    .dataframe tbody tr th {\n",
       "        vertical-align: top;\n",
       "    }\n",
       "\n",
       "    .dataframe thead th {\n",
       "        text-align: right;\n",
       "    }\n",
       "</style>\n",
       "<table border=\"1\" class=\"dataframe\">\n",
       "  <thead>\n",
       "    <tr style=\"text-align: right;\">\n",
       "      <th></th>\n",
       "      <th>#</th>\n",
       "      <th>Name</th>\n",
       "      <th>Type 1</th>\n",
       "      <th>Type 2</th>\n",
       "      <th>Total</th>\n",
       "      <th>HP</th>\n",
       "      <th>Attack</th>\n",
       "      <th>Defense</th>\n",
       "      <th>Sp. Atk</th>\n",
       "      <th>Sp. Def</th>\n",
       "      <th>Speed</th>\n",
       "      <th>Generation</th>\n",
       "      <th>Legendary</th>\n",
       "    </tr>\n",
       "    <tr>\n",
       "      <th>Name</th>\n",
       "      <th></th>\n",
       "      <th></th>\n",
       "      <th></th>\n",
       "      <th></th>\n",
       "      <th></th>\n",
       "      <th></th>\n",
       "      <th></th>\n",
       "      <th></th>\n",
       "      <th></th>\n",
       "      <th></th>\n",
       "      <th></th>\n",
       "      <th></th>\n",
       "      <th></th>\n",
       "    </tr>\n",
       "  </thead>\n",
       "  <tbody>\n",
       "    <tr>\n",
       "      <th>Bulbasaur</th>\n",
       "      <td>1</td>\n",
       "      <td>Bulbasaur</td>\n",
       "      <td>Grass</td>\n",
       "      <td>Poison</td>\n",
       "      <td>318</td>\n",
       "      <td>45</td>\n",
       "      <td>49</td>\n",
       "      <td>49</td>\n",
       "      <td>65</td>\n",
       "      <td>65</td>\n",
       "      <td>45</td>\n",
       "      <td>1</td>\n",
       "      <td>False</td>\n",
       "    </tr>\n",
       "  </tbody>\n",
       "</table>\n",
       "</div>"
      ],
      "text/plain": [
       "           #       Name Type 1  Type 2  Total  HP  Attack  Defense  Sp. Atk  \\\n",
       "Name                                                                          \n",
       "Bulbasaur  1  Bulbasaur  Grass  Poison    318  45      49       49       65   \n",
       "\n",
       "           Sp. Def  Speed  Generation  Legendary  \n",
       "Name                                              \n",
       "Bulbasaur       65     45           1      False  "
      ]
     },
     "execution_count": 57,
     "metadata": {},
     "output_type": "execute_result"
    }
   ],
   "source": [
    "pokemon.iloc[[0]] # Si uso un solo corchete la extraigo como un pandas' list"
   ]
  },
  {
   "cell_type": "code",
   "execution_count": 58,
   "metadata": {},
   "outputs": [
    {
     "data": {
      "text/html": [
       "<div>\n",
       "<style scoped>\n",
       "    .dataframe tbody tr th:only-of-type {\n",
       "        vertical-align: middle;\n",
       "    }\n",
       "\n",
       "    .dataframe tbody tr th {\n",
       "        vertical-align: top;\n",
       "    }\n",
       "\n",
       "    .dataframe thead th {\n",
       "        text-align: right;\n",
       "    }\n",
       "</style>\n",
       "<table border=\"1\" class=\"dataframe\">\n",
       "  <thead>\n",
       "    <tr style=\"text-align: right;\">\n",
       "      <th></th>\n",
       "      <th>#</th>\n",
       "      <th>Name</th>\n",
       "      <th>Type 1</th>\n",
       "      <th>Type 2</th>\n",
       "      <th>Total</th>\n",
       "      <th>HP</th>\n",
       "      <th>Attack</th>\n",
       "      <th>Defense</th>\n",
       "      <th>Sp. Atk</th>\n",
       "      <th>Sp. Def</th>\n",
       "      <th>Speed</th>\n",
       "      <th>Generation</th>\n",
       "      <th>Legendary</th>\n",
       "    </tr>\n",
       "    <tr>\n",
       "      <th>Name</th>\n",
       "      <th></th>\n",
       "      <th></th>\n",
       "      <th></th>\n",
       "      <th></th>\n",
       "      <th></th>\n",
       "      <th></th>\n",
       "      <th></th>\n",
       "      <th></th>\n",
       "      <th></th>\n",
       "      <th></th>\n",
       "      <th></th>\n",
       "      <th></th>\n",
       "      <th></th>\n",
       "    </tr>\n",
       "  </thead>\n",
       "  <tbody>\n",
       "    <tr>\n",
       "      <th>Bulbasaur</th>\n",
       "      <td>1</td>\n",
       "      <td>Bulbasaur</td>\n",
       "      <td>Grass</td>\n",
       "      <td>Poison</td>\n",
       "      <td>318</td>\n",
       "      <td>45</td>\n",
       "      <td>49</td>\n",
       "      <td>49</td>\n",
       "      <td>65</td>\n",
       "      <td>65</td>\n",
       "      <td>45</td>\n",
       "      <td>1</td>\n",
       "      <td>False</td>\n",
       "    </tr>\n",
       "    <tr>\n",
       "      <th>Ivysaur</th>\n",
       "      <td>2</td>\n",
       "      <td>Ivysaur</td>\n",
       "      <td>Grass</td>\n",
       "      <td>Poison</td>\n",
       "      <td>405</td>\n",
       "      <td>60</td>\n",
       "      <td>62</td>\n",
       "      <td>63</td>\n",
       "      <td>80</td>\n",
       "      <td>80</td>\n",
       "      <td>60</td>\n",
       "      <td>1</td>\n",
       "      <td>False</td>\n",
       "    </tr>\n",
       "    <tr>\n",
       "      <th>Venusaur</th>\n",
       "      <td>3</td>\n",
       "      <td>Venusaur</td>\n",
       "      <td>Grass</td>\n",
       "      <td>Poison</td>\n",
       "      <td>525</td>\n",
       "      <td>80</td>\n",
       "      <td>82</td>\n",
       "      <td>83</td>\n",
       "      <td>100</td>\n",
       "      <td>100</td>\n",
       "      <td>80</td>\n",
       "      <td>1</td>\n",
       "      <td>False</td>\n",
       "    </tr>\n",
       "  </tbody>\n",
       "</table>\n",
       "</div>"
      ],
      "text/plain": [
       "           #       Name Type 1  Type 2  Total  HP  Attack  Defense  Sp. Atk  \\\n",
       "Name                                                                          \n",
       "Bulbasaur  1  Bulbasaur  Grass  Poison    318  45      49       49       65   \n",
       "Ivysaur    2    Ivysaur  Grass  Poison    405  60      62       63       80   \n",
       "Venusaur   3   Venusaur  Grass  Poison    525  80      82       83      100   \n",
       "\n",
       "           Sp. Def  Speed  Generation  Legendary  \n",
       "Name                                              \n",
       "Bulbasaur       65     45           1      False  \n",
       "Ivysaur         80     60           1      False  \n",
       "Venusaur       100     80           1      False  "
      ]
     },
     "execution_count": 58,
     "metadata": {},
     "output_type": "execute_result"
    }
   ],
   "source": [
    "pokemon.iloc[0:3]"
   ]
  },
  {
   "cell_type": "code",
   "execution_count": 61,
   "metadata": {},
   "outputs": [
    {
     "data": {
      "text/html": [
       "<div>\n",
       "<style scoped>\n",
       "    .dataframe tbody tr th:only-of-type {\n",
       "        vertical-align: middle;\n",
       "    }\n",
       "\n",
       "    .dataframe tbody tr th {\n",
       "        vertical-align: top;\n",
       "    }\n",
       "\n",
       "    .dataframe thead th {\n",
       "        text-align: right;\n",
       "    }\n",
       "</style>\n",
       "<table border=\"1\" class=\"dataframe\">\n",
       "  <thead>\n",
       "    <tr style=\"text-align: right;\">\n",
       "      <th></th>\n",
       "      <th>Name</th>\n",
       "      <th>Type 1</th>\n",
       "      <th>Type 2</th>\n",
       "    </tr>\n",
       "    <tr>\n",
       "      <th>Name</th>\n",
       "      <th></th>\n",
       "      <th></th>\n",
       "      <th></th>\n",
       "    </tr>\n",
       "  </thead>\n",
       "  <tbody>\n",
       "    <tr>\n",
       "      <th>Bulbasaur</th>\n",
       "      <td>Bulbasaur</td>\n",
       "      <td>Grass</td>\n",
       "      <td>Poison</td>\n",
       "    </tr>\n",
       "    <tr>\n",
       "      <th>Ivysaur</th>\n",
       "      <td>Ivysaur</td>\n",
       "      <td>Grass</td>\n",
       "      <td>Poison</td>\n",
       "    </tr>\n",
       "    <tr>\n",
       "      <th>Venusaur</th>\n",
       "      <td>Venusaur</td>\n",
       "      <td>Grass</td>\n",
       "      <td>Poison</td>\n",
       "    </tr>\n",
       "    <tr>\n",
       "      <th>VenusaurMega Venusaur</th>\n",
       "      <td>VenusaurMega Venusaur</td>\n",
       "      <td>Grass</td>\n",
       "      <td>Poison</td>\n",
       "    </tr>\n",
       "    <tr>\n",
       "      <th>Charmander</th>\n",
       "      <td>Charmander</td>\n",
       "      <td>Fire</td>\n",
       "      <td>NaN</td>\n",
       "    </tr>\n",
       "  </tbody>\n",
       "</table>\n",
       "</div>"
      ],
      "text/plain": [
       "                                        Name Type 1  Type 2\n",
       "Name                                                       \n",
       "Bulbasaur                          Bulbasaur  Grass  Poison\n",
       "Ivysaur                              Ivysaur  Grass  Poison\n",
       "Venusaur                            Venusaur  Grass  Poison\n",
       "VenusaurMega Venusaur  VenusaurMega Venusaur  Grass  Poison\n",
       "Charmander                        Charmander   Fire     NaN"
      ]
     },
     "execution_count": 61,
     "metadata": {},
     "output_type": "execute_result"
    }
   ],
   "source": [
    "# Imprimir multiples filas o columnas usando .iloc\n",
    "pokemon.iloc[:,[1, 2, 3]].head()"
   ]
  },
  {
   "cell_type": "code",
   "execution_count": 56,
   "metadata": {},
   "outputs": [
    {
     "data": {
      "text/html": [
       "<div>\n",
       "<style scoped>\n",
       "    .dataframe tbody tr th:only-of-type {\n",
       "        vertical-align: middle;\n",
       "    }\n",
       "\n",
       "    .dataframe tbody tr th {\n",
       "        vertical-align: top;\n",
       "    }\n",
       "\n",
       "    .dataframe thead th {\n",
       "        text-align: right;\n",
       "    }\n",
       "</style>\n",
       "<table border=\"1\" class=\"dataframe\">\n",
       "  <thead>\n",
       "    <tr style=\"text-align: right;\">\n",
       "      <th></th>\n",
       "      <th>Name</th>\n",
       "      <th>Attack</th>\n",
       "    </tr>\n",
       "    <tr>\n",
       "      <th>Name</th>\n",
       "      <th></th>\n",
       "      <th></th>\n",
       "    </tr>\n",
       "  </thead>\n",
       "  <tbody>\n",
       "    <tr>\n",
       "      <th>Venusaur</th>\n",
       "      <td>Venusaur</td>\n",
       "      <td>82</td>\n",
       "    </tr>\n",
       "    <tr>\n",
       "      <th>VenusaurMega Venusaur</th>\n",
       "      <td>VenusaurMega Venusaur</td>\n",
       "      <td>100</td>\n",
       "    </tr>\n",
       "    <tr>\n",
       "      <th>Charmander</th>\n",
       "      <td>Charmander</td>\n",
       "      <td>52</td>\n",
       "    </tr>\n",
       "  </tbody>\n",
       "</table>\n",
       "</div>"
      ],
      "text/plain": [
       "                                        Name  Attack\n",
       "Name                                                \n",
       "Venusaur                            Venusaur      82\n",
       "VenusaurMega Venusaur  VenusaurMega Venusaur     100\n",
       "Charmander                        Charmander      52"
      ]
     },
     "execution_count": 56,
     "metadata": {},
     "output_type": "execute_result"
    }
   ],
   "source": [
    "pokemon.iloc[2:5, [1, 6]]"
   ]
  },
  {
   "cell_type": "markdown",
   "metadata": {
    "slideshow": {
     "slide_type": "slide"
    }
   },
   "source": [
    "### Usando condiciones lógicas para filtrar Objetos\n",
    "\n",
    "Algo que necesariamente tendrémos que hacer es filtrar las observaciones de un `df` en base a cierto criterios o comparaciones lógicas. Para esto se usan los siguientes comparadores:\n",
    "\n",
    "- `>` : Mayor que\n",
    "- `>=`: Mayor o igual que\n",
    "- `<` : Menor que\n",
    "- `<=`: Menor o igual que\n",
    "- `==`: Igual a\n",
    "- `!=`: Diferente de\n",
    "\n",
    "Las comprobaciones que se realizan usando estos operadores resultan en un `True` o `False`"
   ]
  },
  {
   "cell_type": "markdown",
   "metadata": {
    "slideshow": {
     "slide_type": "subslide"
    }
   },
   "source": [
    "**Pruebas**"
   ]
  },
  {
   "cell_type": "code",
   "execution_count": null,
   "metadata": {
    "slideshow": {
     "slide_type": "-"
    }
   },
   "outputs": [],
   "source": [
    "print(3 > 5); print(3 == 3); print(\"AL\" > \"B\")\n",
    "# Se puedne comparar strings. La comparación se realiza segíun el orden alfabético.\n",
    "# En el caso de las listas se compara la cantidad de elementos"
   ]
  },
  {
   "cell_type": "code",
   "execution_count": null,
   "metadata": {},
   "outputs": [],
   "source": [
    "# Ingreso es un lista\n",
    "print(ingreso)"
   ]
  },
  {
   "cell_type": "markdown",
   "metadata": {},
   "source": [
    "Crear arrays con las listas que usamos para hacer gráficas, para poner en práctica los filtros"
   ]
  },
  {
   "cell_type": "code",
   "execution_count": null,
   "metadata": {},
   "outputs": [],
   "source": [
    "# Podemos crear arrays con esto objetos para poner en práctica los filtros\n",
    "ingreso_array = np.array(ingreso)\n",
    "gasto_tc_array = np.array(ingreso)\n",
    "balance_array = ingreso_array - gasto_tc_array"
   ]
  },
  {
   "cell_type": "markdown",
   "metadata": {},
   "source": [
    "Comprobación lógica de un array"
   ]
  },
  {
   "cell_type": "code",
   "execution_count": null,
   "metadata": {},
   "outputs": [],
   "source": [
    "mas_25k = ingreso_array > 25000 "
   ]
  },
  {
   "cell_type": "markdown",
   "metadata": {
    "slideshow": {
     "slide_type": "subslide"
    }
   },
   "source": [
    "El resultado de una comprobación lógica de un array es una colección de `True` o `False`"
   ]
  },
  {
   "cell_type": "code",
   "execution_count": null,
   "metadata": {},
   "outputs": [],
   "source": [
    "print(mas_25k)"
   ]
  },
  {
   "cell_type": "code",
   "execution_count": null,
   "metadata": {},
   "outputs": [],
   "source": [
    "# Se puede utilizar para filtar el objetos original \n",
    "print(ingreso_array[mas_25k])"
   ]
  },
  {
   "cell_type": "code",
   "execution_count": null,
   "metadata": {},
   "outputs": [],
   "source": [
    "# También se puede poner la comporbación dentro de los corchetes y evitar la creación de un objeto intermedio\n",
    "print(ingreso_array[ingreso_array > 25000])"
   ]
  },
  {
   "cell_type": "markdown",
   "metadata": {},
   "source": [
    "**Preguntas**"
   ]
  },
  {
   "cell_type": "markdown",
   "metadata": {},
   "source": [
    "1. Cuántos ingresos hay mayores a 30,000?\n",
    "2. Cuántas veces el individuo pudo ahorrar y cuánto cada vez?\n",
    "3. De los ingresos mayores a 30,000, cuál es el menor?"
   ]
  },
  {
   "cell_type": "code",
   "execution_count": null,
   "metadata": {},
   "outputs": [],
   "source": []
  },
  {
   "cell_type": "code",
   "execution_count": null,
   "metadata": {},
   "outputs": [],
   "source": []
  },
  {
   "cell_type": "code",
   "execution_count": null,
   "metadata": {},
   "outputs": [],
   "source": []
  },
  {
   "cell_type": "markdown",
   "metadata": {
    "slideshow": {
     "slide_type": "subslide"
    }
   },
   "source": [
    "**Operadores lógicos** `and`, `or` **y** `not`.\n",
    "\n",
    "Estos se utilizan para saber si un objeto o los elementos cumplen una o más condiciones, o alguna entre ciertas condiciones.\n",
    "\n",
    "<div class=\"columns-2\">\n",
    "\n",
    "- **and:**\n",
    "    - True **and** True = True\n",
    "    - True **and** False = False\n",
    "    - False **and** True = False\n",
    "    - False **and** False = False \n",
    "- **or:**\n",
    "    - True **or** True = True\n",
    "    - True **or** False = True\n",
    "    - False **and** True = True\n",
    "    - False **and** False = False\n",
    "- **not:**\n",
    "    - **not** True = False\n",
    "    - **not** False = True\n",
    "</div>"
   ]
  },
  {
   "cell_type": "markdown",
   "metadata": {
    "slideshow": {
     "slide_type": "subslide"
    }
   },
   "source": [
    "No es lo mismo comparar elemento individuales y arrays"
   ]
  },
  {
   "cell_type": "code",
   "execution_count": null,
   "metadata": {},
   "outputs": [],
   "source": [
    "print(3 == 3 and 4 == 4) # Esto se puede hacer\n",
    "print(3 > 4 or 5 > 3) # Esto también\n",
    "print([1, 1, 1] < [1, 3])"
   ]
  },
  {
   "cell_type": "markdown",
   "metadata": {},
   "source": [
    " Pero si queremos ver en el objeto `ingreso_array` los valores que son menores que 30,000 y mayores que 20,000, no podemos hacer lo siguiente `print(ingreso_array > 20000 or ingreso_array < 30000)`.\n",
    " \n",
    " Para el uso de los operadores `and`, `or` y `not` en arrays hay funciones particulares."
   ]
  },
  {
   "cell_type": "code",
   "execution_count": null,
   "metadata": {},
   "outputs": [],
   "source": [
    "print(np.logical_and(ingreso_array > 25000, ingreso_array < 30000)) # Queremos los ingresos del centro \n",
    "print(np.logical_or(ingreso_array < 23000, ingreso_array > 35000)) # los extremos\n",
    "#como esta también existe np.logical_or"
   ]
  },
  {
   "cell_type": "markdown",
   "metadata": {
    "slideshow": {
     "slide_type": "slide"
    }
   },
   "source": [
    "**Conditional Statements**\n",
    "\n",
    "`if`, `elif` y `else`\n",
    "\n",
    "**If statement**"
   ]
  },
  {
   "cell_type": "code",
   "execution_count": null,
   "metadata": {},
   "outputs": [],
   "source": [
    "# If statement\n",
    "x = 8   \n",
    "if x % 2 == 0 :\n",
    "    print(\"x es par\")"
   ]
  },
  {
   "cell_type": "markdown",
   "metadata": {},
   "source": [
    "Se pueden declarar varias sentencias luego de comparador lógico"
   ]
  },
  {
   "cell_type": "code",
   "execution_count": null,
   "metadata": {},
   "outputs": [],
   "source": [
    "if x % 2 == 0 :\n",
    "    print(\"x = \" + str(x))\n",
    "    print(\"x es par\")"
   ]
  },
  {
   "cell_type": "code",
   "execution_count": null,
   "metadata": {},
   "outputs": [],
   "source": [
    "# En esta caso la comparación es falsa y no se ejecuta la sentencia.\n",
    "if x % 2 != 0 :\n",
    "    print(\"x es impar\")"
   ]
  },
  {
   "cell_type": "markdown",
   "metadata": {
    "slideshow": {
     "slide_type": "subslide"
    }
   },
   "source": [
    "**else statement**"
   ]
  },
  {
   "cell_type": "code",
   "execution_count": null,
   "metadata": {},
   "outputs": [],
   "source": [
    "x = 7\n",
    "\n",
    "if x % 2 == 0 :\n",
    "    print(\"x es par\")\n",
    "else :\n",
    "    print(\"x es impar\")"
   ]
  },
  {
   "cell_type": "markdown",
   "metadata": {},
   "source": [
    "**elif statement** "
   ]
  },
  {
   "cell_type": "code",
   "execution_count": null,
   "metadata": {},
   "outputs": [],
   "source": [
    "peso_lb = 175\n",
    "\n",
    "if peso_lb <= 150 :\n",
    "    print(\"Estas flaco, come más\")\n",
    "elif peso_lb > 150 and peso_lb <= 170 :\n",
    "    print(\"Estás dentro de tu peso ideal\")\n",
    "elif peso_lb > 170 and peso_lb < 185 :\n",
    "    print(\"Cuidado, te estás pasando de peso\")\n",
    "else :\n",
    "    print(\"Deberías rebajar\")\n"
   ]
  },
  {
   "cell_type": "markdown",
   "metadata": {
    "slideshow": {
     "slide_type": "slide"
    }
   },
   "source": [
    "### Fintrando un pandas DataFrame"
   ]
  },
  {
   "cell_type": "code",
   "execution_count": null,
   "metadata": {},
   "outputs": [],
   "source": [
    "# Recuerdan el DF pokemon\n",
    "pokemon.head()"
   ]
  },
  {
   "cell_type": "markdown",
   "metadata": {},
   "source": [
    "**Ojetivo**\n",
    "\n",
    "- Filtrar los pokemones de la generación 2\n",
    "\n",
    "**Pasos**\n",
    "\n",
    "1. Seleccionar la columna `Generation`\n",
    "2. Hacer la comparación de lugar\n",
    "3. Usar la comparación para filtrar el `df`\n"
   ]
  },
  {
   "cell_type": "markdown",
   "metadata": {
    "slideshow": {
     "slide_type": "subslide"
    }
   },
   "source": [
    "**En cámara lenta**"
   ]
  },
  {
   "cell_type": "code",
   "execution_count": null,
   "metadata": {
    "slideshow": {
     "slide_type": "-"
    }
   },
   "outputs": [],
   "source": [
    "# Extraer la la variable `legendary`. Hay varias alternativas para esto\n",
    "generation = pokemon[\"Generation\"] #pokemon.loc[:, \"Generation\"]; #pokemon.iloc[:, 11]\n",
    "generation_2 = generation == 2\n",
    "pokemon[generation_2].head()"
   ]
  },
  {
   "cell_type": "markdown",
   "metadata": {
    "slideshow": {
     "slide_type": "-"
    }
   },
   "source": [
    "**De forma directa**"
   ]
  },
  {
   "cell_type": "code",
   "execution_count": null,
   "metadata": {},
   "outputs": [],
   "source": [
    "pokemon[pokemon[\"Generation\"] == 2].head() "
   ]
  },
  {
   "cell_type": "markdown",
   "metadata": {
    "slideshow": {
     "slide_type": "subslide"
    }
   },
   "source": [
    "**Ahora filtremos los elementos que cumplem dos condiciones o más**\n",
    "\n",
    "> recuerden las funciones `logical_and`, `logical_or` del paquete `numpy`, para la comparación de arrays\n",
    "\n",
    "**Pokemones legendarios de la primera generación**"
   ]
  },
  {
   "cell_type": "code",
   "execution_count": null,
   "metadata": {},
   "outputs": [],
   "source": [
    "pokemon[np.logical_and(pokemon[\"Legendary\"], pokemon[\"Generation\"] == 1)]"
   ]
  },
  {
   "cell_type": "markdown",
   "metadata": {
    "slideshow": {
     "slide_type": "slide"
    }
   },
   "source": [
    "### Loops\n",
    "\n",
    "Los bucles ganan terreno en la realización de operaciones repetitivas sobre una colección de elementos u objetos.\n",
    "\n",
    "**Tipos de loops**\n",
    "\n",
    "- while\n",
    "- for\n",
    "\n",
    "**While loop**\n",
    "\n",
    "Ejecutan una operación repetitivamente hasta que se cumple una condición"
   ]
  },
  {
   "cell_type": "code",
   "execution_count": null,
   "metadata": {},
   "outputs": [],
   "source": [
    "presupuesto = 1500; precio_cerveza = 200\n",
    "\n",
    "# voy a beber mientras me quede para comparar cerveza\n",
    "while presupuesto > precio_cerveza :\n",
    "    print(\"Tengo \" + str(presupuesto) + \", Dame otra!\")\n",
    "    presupuesto = presupuesto - precio_cerveza\n",
    "    "
   ]
  },
  {
   "cell_type": "markdown",
   "metadata": {
    "slideshow": {
     "slide_type": "subslide"
    }
   },
   "source": [
    "**For loop**\n",
    "\n",
    "Repiten una acción a lo largo de una secuencia de valores, la cual debe ser definida a priori.\n",
    "\n",
    "Estructura del comando\n",
    "\n",
    "```\n",
    "for var in seq :\n",
    "    expresion\n",
    "```"
   ]
  },
  {
   "cell_type": "code",
   "execution_count": null,
   "metadata": {},
   "outputs": [],
   "source": [
    "participantes = [\"Johan\", \"Jesus\", \"Merlym\"]\n",
    "\n",
    "print(participantes[0])\n",
    "print(participantes[1])\n",
    "print(participantes[2])"
   ]
  },
  {
   "cell_type": "code",
   "execution_count": null,
   "metadata": {},
   "outputs": [],
   "source": [
    "for nombre in participantes :\n",
    "    print(nombre)"
   ]
  },
  {
   "cell_type": "code",
   "execution_count": null,
   "metadata": {},
   "outputs": [],
   "source": [
    "for index, nombre in enumerate(participantes) :\n",
    "    print(nombre + \" es el número \", str(index + 1))"
   ]
  },
  {
   "cell_type": "markdown",
   "metadata": {
    "slideshow": {
     "slide_type": "slide"
    }
   },
   "source": [
    "### Ejercicio \n",
    "> Fuente: Intermediate Python for data science, Data camp\n",
    "\n",
    "Imaginemos que estamos en el piso 1 de BlueMall y hacemos la apuesta de que podemos llegar al piso 25 de la torre, lanzando un dado 40 veces. La forma de avanzar y las restricciones del juego son las siguientes:\n",
    "\n",
    "- Si sale `1` o `2` bajas un piso\n",
    "- Si sale `3`, `4` o `5`, subes 1 piso\n",
    "- Si sale `6`, vuelves a tirar el dato y subes la cantidad de pisos que resulte \n",
    "- No puedes bajar del primer nivel, lo que significa que si en primer tiro sale `1` o `2`, te quedas donde estás\n",
    "\n",
    "**Insumos:**\n",
    "\n",
    "- `numpy.random`, un subpaquete de numpy para generar número aleatorios\n",
    "- las estructuras de control, `if`, `elif` y `else` para decidir si subir o bajar\n",
    "- los loops para hacer el ejercicio varias veces"
   ]
  },
  {
   "cell_type": "markdown",
   "metadata": {
    "slideshow": {
     "slide_type": "subslide"
    }
   },
   "source": [
    "#### Generando números aleatorios "
   ]
  },
  {
   "cell_type": "code",
   "execution_count": null,
   "metadata": {},
   "outputs": [],
   "source": [
    "# Generar un número aleatorio entre 0 y 1\n",
    "np.random.rand()"
   ]
  },
  {
   "cell_type": "markdown",
   "metadata": {},
   "source": [
    "Un elemento importante a la hora de hacer ejercicios con números aleatorios es utilizar un `seed()`, porque permite reproducibilidad"
   ]
  },
  {
   "cell_type": "code",
   "execution_count": null,
   "metadata": {},
   "outputs": [],
   "source": [
    "np.random.seed(1)\n",
    "print(np.random.rand())\n",
    "print(np.random.rand())"
   ]
  },
  {
   "cell_type": "code",
   "execution_count": null,
   "metadata": {},
   "outputs": [],
   "source": [
    "np.random.seed(1)\n",
    "print(np.random.rand())\n",
    "print(np.random.rand())"
   ]
  },
  {
   "cell_type": "code",
   "execution_count": null,
   "metadata": {},
   "outputs": [],
   "source": [
    "# Generar números acotados en un intervalo arbitrario\n",
    "np.random.randint(1, 11) # Un número entre 1 y 10"
   ]
  },
  {
   "cell_type": "markdown",
   "metadata": {},
   "source": [
    "Bien, con esto y lo que ya sabemos podemos hacer el ejercicio!"
   ]
  },
  {
   "cell_type": "markdown",
   "metadata": {
    "slideshow": {
     "slide_type": "subslide"
    }
   },
   "source": [
    "Creemos un dado y una estructura de control que nos diga si subir o bajar dependiendo lo que resulte de lanzar el dado"
   ]
  },
  {
   "cell_type": "code",
   "execution_count": null,
   "metadata": {},
   "outputs": [],
   "source": [
    "# Crear el dado\n",
    "dado = # completar\n",
    "\n",
    "#Piso en el que te encuentras\n",
    "piso_actual = 10\n",
    "\n",
    "# Estructura de control\n",
    "if dado <=  2:\n",
    "   ## completar\n",
    "elif dado <= 5 :\n",
    "   ## completar\n",
    "else :\n",
    "    ## Completar \n",
    "    \n",
    "print(piso_actual)\n",
    "print(dado) "
   ]
  },
  {
   "cell_type": "markdown",
   "metadata": {
    "slideshow": {
     "slide_type": "subslide"
    }
   },
   "source": [
    "Ahora queremos hacer iteraciones del ejercicio anterior e ir guardando los resultados.\n",
    "\n",
    "Llegaremos al piso 25 de BlueMall?"
   ]
  },
  {
   "cell_type": "code",
   "execution_count": null,
   "metadata": {},
   "outputs": [],
   "source": [
    "# Creando una lista para tener un log de los pasos dados\n",
    "random_walk = [0]\n",
    "\n",
    "for i in range(25) :\n",
    "    # lanzamiento del dando\n",
    "    dado = np.random.randint(1, 7)\n",
    "    \n",
    "    # Piso en el que estamos\n",
    "    piso = random_walk[-1]\n",
    "    \n",
    "    # Qué hago\n",
    "    if dado <= 2 :\n",
    "        piso = piso - 1\n",
    "    elif dado <= 5 :\n",
    "        piso = piso + 1\n",
    "    else :\n",
    "        piso = piso + dado\n",
    "        \n",
    "    random_walk.append(piso)\n",
    "\n",
    "print(random_walk)"
   ]
  },
  {
   "cell_type": "markdown",
   "metadata": {},
   "source": [
    "> Vamos bien, pero tenemos que lograr nunca bajar del primer piso (piso 0)"
   ]
  },
  {
   "cell_type": "markdown",
   "metadata": {
    "slideshow": {
     "slide_type": "slide"
    }
   },
   "source": [
    "## Data frame y gráficos"
   ]
  },
  {
   "cell_type": "code",
   "execution_count": null,
   "metadata": {},
   "outputs": [],
   "source": [
    "import numpy as np\n",
    "mean_attack = {}\n",
    "\n",
    "poke_type = np.unique(pokemon['Type 1'])\n",
    "\n",
    "for ptype in poke_type:\n",
    "     mean_attack[ptype] = np.round(pokemon[pokemon[\"Type 1\"] == ptype]['Attack'].mean(), 2)\n",
    "\n",
    "mean_attack = pd.DataFrame({\"type\" : list(mean_attack.keys()),\n",
    "                           \"attack\" : list(mean_attack.values())})        \n",
    "print(mean_attack.head(5)) "
   ]
  },
  {
   "cell_type": "code",
   "execution_count": null,
   "metadata": {
    "slideshow": {
     "slide_type": "subslide"
    }
   },
   "outputs": [],
   "source": [
    "mean_attack.plot(kind = \"bar\", x = 'type', y = \"attack\")"
   ]
  },
  {
   "cell_type": "markdown",
   "metadata": {
    "slideshow": {
     "slide_type": "subslide"
    }
   },
   "source": [
    "### Ejercicios con el histórico de la EEM"
   ]
  },
  {
   "cell_type": "code",
   "execution_count": null,
   "metadata": {},
   "outputs": [],
   "source": [
    "# importar la base \"eem_historico.csv\"\n",
    "eem = pd.read_csv(\"eem_historico.csv\")\n",
    "observadas = pd.read_csv(\"series_observadas.csv\")\n",
    "\n",
    "# Seleccionar las variables sobre iflacion\n",
    "eem.iloc[:, 0:8].head()\n",
    "\n",
    "eem.plot(kind = \"line\", x = \"id_periodo\", y = \"inflacion_mes\")\n",
    "observadas.plot(kind = \"line\", x = \"id_periodo\", y = \"inflacion_mes_obs\")"
   ]
  },
  {
   "cell_type": "markdown",
   "metadata": {
    "slideshow": {
     "slide_type": "subslide"
    }
   },
   "source": [
    "#### Ahora ambos gráficos juntos\n"
   ]
  },
  {
   "cell_type": "code",
   "execution_count": null,
   "metadata": {},
   "outputs": [],
   "source": [
    "ax = plt.gca()\n",
    "\n",
    "eem.plot(kind = \"line\", x = \"id_periodo\", y = \"inflacion_mes\",label = \"expectativa\", ax = ax)\n",
    "observadas.plot(kind = \"line\", x = \"id_periodo\", y = \"inflacion_mes_obs\",label = \"inflacion\", ax = ax)"
   ]
  },
  {
   "cell_type": "code",
   "execution_count": null,
   "metadata": {
    "slideshow": {
     "slide_type": "subslide"
    }
   },
   "outputs": [],
   "source": [
    "# Crear un gráfico de barras con los errores de pronostico\n",
    "\n",
    "errores = eem.loc[:, ['id_periodo', \"inflacion_mes\"]]\n",
    "\n",
    "errores[\"inflacion_mes_obs\"] = observadas[\"inflacion_mes_obs\"]\n",
    "\n",
    "errores['errores'] = errores[\"inflacion_mes_obs\"] - errores[\"inflacion_mes\"]\n",
    "\n",
    "#errores\n",
    "\n",
    "errores.plot(x = \"id_periodo\", y = \"errores\", kind = \"line\")"
   ]
  },
  {
   "cell_type": "markdown",
   "metadata": {
    "slideshow": {
     "slide_type": "slide"
    }
   },
   "source": [
    "### Funciones definidas por el usuario\n",
    "\n",
    "Definir nuestras propias funciones es un habilidad a la que le podemos sacar provecho durante el análisis de datos.\n",
    "- Permite ahorrar líneas de código\n",
    "- Minimiza errores\n",
    "- Ayuda a la claridad del trabajo\n",
    "\n",
    "**Estructura de una función**\n",
    "\n",
    "```\n",
    "def name(argumento, argumento2) : # Esta parte es el header\n",
    "    acción                        # El cuerpo de la funcion es un ambiente individual\n",
    "    salida                        # La última expresión evaluada será el output\n",
    "```"
   ]
  },
  {
   "cell_type": "markdown",
   "metadata": {
    "slideshow": {
     "slide_type": "subslide"
    }
   },
   "source": [
    "**Nuestra primera funcion, una autonóma**\n",
    "\n",
    "Esta función no dependen de nosotros para lanzar un rultado"
   ]
  },
  {
   "cell_type": "code",
   "execution_count": null,
   "metadata": {},
   "outputs": [],
   "source": [
    "def dado() :\n",
    "    return(np.random.randint(1, 7))\n",
    "    \n",
    "print(dado())"
   ]
  },
  {
   "cell_type": "markdown",
   "metadata": {},
   "source": [
    "**Función con argumentos**\n",
    "\n",
    "Primero una fácil"
   ]
  },
  {
   "cell_type": "code",
   "execution_count": null,
   "metadata": {},
   "outputs": [],
   "source": [
    "def al_cuadrado(x) :\n",
    "    return(x * x)\n",
    "    \n",
    "al_cuadrado(5)"
   ]
  },
  {
   "cell_type": "markdown",
   "metadata": {},
   "source": [
    "Ahora una no tan fácil"
   ]
  },
  {
   "cell_type": "code",
   "execution_count": null,
   "metadata": {},
   "outputs": [],
   "source": [
    "def dado(n) :\n",
    "    resultado = [0]\n",
    "    for i in range(n) :\n",
    "        resultado.append(np.random.randint(1, 7))\n",
    "    return(resultado)"
   ]
  },
  {
   "cell_type": "code",
   "execution_count": null,
   "metadata": {},
   "outputs": [],
   "source": [
    "dado(8)"
   ]
  }
 ],
 "metadata": {
  "celltoolbar": "Slideshow",
  "kernelspec": {
   "display_name": "Python 3",
   "language": "python",
   "name": "python3"
  },
  "language_info": {
   "codemirror_mode": {
    "name": "ipython",
    "version": 3
   },
   "file_extension": ".py",
   "mimetype": "text/x-python",
   "name": "python",
   "nbconvert_exporter": "python",
   "pygments_lexer": "ipython3",
   "version": "3.6.8"
  }
 },
 "nbformat": 4,
 "nbformat_minor": 2
}
